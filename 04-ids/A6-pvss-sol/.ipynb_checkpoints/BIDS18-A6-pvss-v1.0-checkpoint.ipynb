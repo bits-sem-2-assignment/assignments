{
 "cells": [
  {
   "cell_type": "code",
   "execution_count": 6,
   "metadata": {},
   "outputs": [],
   "source": [
    "# BIDS18\n",
    "# PRABHA SASIKANTH\n",
    "# NAGESWAR RAO ( Group Leader)\n",
    "# SARANYA"
   ]
  },
  {
   "cell_type": "markdown",
   "metadata": {},
   "source": [
    "\n",
    "<table>\n",
    "            <tr>\n",
    "                <td style=\"background-color:rgb(77, 143, 201)\" >\n",
    "        <a href=\"#\"><img src=\"https://bits-pilani-wilp.ac.in/sites/default/files/logo-white_1.png\" width=300, align=\"center\"></a></td>\n",
    "                <td style=\"background-color:aliceblue; color: darkslategray\" >\n",
    "                    <h1 align=center><font size = 5>Assignment:  A6</font></h1>\n",
    "                    <h2 align=center><font size = 3>BITS, MTech Data Science & Engineering, II Semester</font></h2>\n",
    "                </td>\n",
    "            </tr>\n",
    "            <tr>\n",
    "            </tr>\n",
    "        </table>\n"
   ]
  },
  {
   "cell_type": "markdown",
   "metadata": {},
   "source": [
    "<h1>Introduction</h1>\n",
    "<h3>Welcome!</h3>\n",
    "\n",
    "<p>\n",
    "Focus on applying the learnt data analytics concepts and try to share your findings on following aspects:\n",
    "    \n",
    "* What are the highest paid Skills in the US market?\n",
    "* What are the job categories, which involve above mentioned niche skills?\n",
    "* Applying clustering concepts, please depict visually what are the different salary ranges based\n",
    "on job category and years of experience.\n",
    "</p>\n",
    "\n",
    "<h3>Data sets referred in this assignmentment</h3>\n",
    "\n",
    "|file| Git URL | Format | Size  | Description | \n",
    "|-|- | - | -  | - | \n",
    "|data.csv|`url`| csv | 17 MB  | Contains balh blah| \n",
    "|metadata.json|`url`| json | -  | Contains Meta data|\n",
    "|data_dictinary.xlsx|`url`| XLSX | -  | Data dictionary|\n"
   ]
  },
  {
   "cell_type": "markdown",
   "metadata": {},
   "source": [
    "\n",
    "<h2>Table of Contents</h2>\n",
    "\n",
    "<div class=\"alert alert-block alert-info\" style=\"margin-top: 20px\">\n",
    "<ol>\n",
    "    <li><a href=\"#01-dataprep\">Data Preparation</a>\n",
    "    <li><a href=\"#01.a-normalization\">Normalization</a></li>\n",
    "    <li><a href=\"#01.b-datatypes\">Data Types</a>\n",
    "    <li><a href=\"#02.var-identification\">Variable Identification</a></li>\n",
    "    <li><a href=\"#03-var-select\">Variable Selection</a>\n",
    "    <li><a href=\"#04-fet-eng\">Feature Engineering</a></li>\n",
    "    <li><a href=\"#03-missing-val\">Missing Values</a>\n",
    "    <li><a href=\"#04-Analysis\">Analysis</a></li>\n",
    "</ol>\n",
    "\n",
    "Estimated Time Needed: <strong>10 min</strong>\n",
    "</div>\n",
    "<hr>\n",
    "\n",
    "---\n",
    "## 1. DataPreparation[10marks]\n",
    "### A. Schemamustbenormalized;\n",
    "### B. fieldtypesmustbeappropriateasperfields available. \n",
    "## 2. IdentificationofVariables[10marks] \n",
    "## 3. VariableSelection[10marks]\n",
    "## 4. FeatureEngineering[10marks]\n",
    "## 5. Missingvalueordata[10marks]\n",
    "## 6. Analysis[50marks]\n",
    "\n",
    "\n",
    "<div class=\"alert alert-danger alertdanger\" style=\"margin-top: 20px\">\n",
    "<h1> Question #1: </h1>\n",
    "<b>check the bottom 10 rows of data frame \"df\".</b>\n",
    "</div>"
   ]
  },
  {
   "cell_type": "markdown",
   "metadata": {},
   "source": [
    "# Q1  What are the highest paid Skills in the US market?\n",
    "# Q2  What are the job categories, which involve above mentioned niche skills?\n",
    "# Q3  Applying clustering concepts, please depict visually what are the different salary ranges based\n",
    "on job category and years of experience"
   ]
  },
  {
   "cell_type": "code",
   "execution_count": null,
   "metadata": {},
   "outputs": [],
   "source": []
  }
 ],
 "metadata": {
  "kernelspec": {
   "display_name": "Python 3",
   "language": "python",
   "name": "python3"
  },
  "language_info": {
   "codemirror_mode": {
    "name": "ipython",
    "version": 3
   },
   "file_extension": ".py",
   "mimetype": "text/x-python",
   "name": "python",
   "nbconvert_exporter": "python",
   "pygments_lexer": "ipython3",
   "version": "3.7.1"
  }
 },
 "nbformat": 4,
 "nbformat_minor": 2
}
