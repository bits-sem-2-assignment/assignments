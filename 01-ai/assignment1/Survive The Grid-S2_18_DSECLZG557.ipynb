{
 "cells": [
  {
   "cell_type": "markdown",
   "metadata": {},
   "source": [
    "# Computational and Artifical Intelligenge Assignment 1\n",
    "\n",
    "## Problem Solving by Searching using IDA* and Best First Search\n",
    "---\n",
    "Weightage: 10%\n",
    "\n",
    "Date of Posting - 04/July/2019\n",
    "\n",
    "Deadline - 22/July/2019 10:00 AM"
   ]
  },
  {
   "cell_type": "markdown",
   "metadata": {},
   "source": [
    "## Submitters \n",
    "\n",
    "### Group ID/Number: S2-18_DSECL_ACI_BAN_2\n",
    "---\n",
    "\n",
    "<table style=\"float:left\">\n",
    "    <tbody>\n",
    "        <tr>\n",
    "            <td>1</td>\n",
    "            <td>Nageswar Rao</td>\n",
    "            <td>2018ab04093 </td>\n",
    "        </tr>\n",
    "         <tr>\n",
    "            <td>2</td>\n",
    "            <td>Saranya</td>\n",
    "            <td>2018ab04102</td>\n",
    "        </tr>\n",
    "         <tr>\n",
    "            <td>3</td>\n",
    "            <td>Prabha Sasikanth</td>\n",
    "            <td>2018AB04094</td>\n",
    "        </tr>\n",
    "    </tbody>\n",
    "</table>"
   ]
  },
  {
   "cell_type": "markdown",
   "metadata": {},
   "source": [
    "## Table of Contents  <span id=\"0\" ></span>\n",
    "---\n",
    "1. [**Problem statement**](#1)\n",
    "2. [Environment representation](#2)\n",
    "3. [Frindge datastructure](#3)\n",
    "4. [IDA* algorithm](#4)\n",
    "5. [Best First Search Algorithm](#5)\n",
    "6. [Search Execution](#6)\n",
    "7. [Results](#7)"
   ]
  },
  {
   "cell_type": "markdown",
   "metadata": {},
   "source": [
    "Things to follow\n",
    "\n",
    "1. Use appropriate data structures for the fringes and explain the reasoning behind the usage. You need not create data structures, instead use available libraries directly.\n",
    "\n",
    "2. Avoid any hard-coding unless absolutely necessary.\n",
    "\n",
    "3. Provide proper documentation"
   ]
  },
  {
   "cell_type": "markdown",
   "metadata": {},
   "source": [
    "<span id=\"1\"></span>\n",
    "## The problem statement\n",
    "---\n",
    "[[top]](#0)\n",
    "\n",
    "The agent stranded somewhere on an 11x8 grid. The green dot in the below figure represents your present location on the grid. The agent is low on food and water and you are running out of energy to survive. Going from one cell to the next consumes one unit of your precious energy. Needless to say, you have an urgent need to exit this grid in as few steps as possible. There is only one cell through which you can exit the grid and that cell is represented by the blue arrow. The grid also has some barriers which agent cannot cross but can go around. Agent can only move right, left, up and down to a cell which is within the grid and which is not a barrier.\n",
    "\n",
    "The environment is static, fully observable and deterministic\n",
    "\n",
    "<img src=\"grid.png\">"
   ]
  },
  {
   "cell_type": "markdown",
   "metadata": {},
   "source": [
    "In order to use one of the informed search strategies, \n",
    "    \n",
    "1. which heuristic function h(n) would you use? Is your heuristic both admissible and consistent? Please explain.\n",
    "    \n",
    "2. How will you go about defining the total cost function f(n)\n",
    "\n",
    "3. Implement Iterative deepening A*(IDA*) search ++ in python to find the path to the exit cell avoiding the barriers. Your output should contain the path taken by the agent (e.g. [(3,8),(4,8),(4,7)………] and also the total cost incurred in taking that path, total number of nodes expanded to get this state, maximum number of nodes kept at the memory at any point in time\n",
    "\n",
    "4. Implement Greedy Best First Search in python to find the path to the exit cell avoiding the barriers. Your output should contain the path taken by the agent (e.g. [(3,8),(4,8),(4,7)………] and also the total cost incurred in taking that path, total number of nodes expanded to get this state,\n",
    "maximum number of nodes kept at the memory at any point in time\n",
    "\n",
    "5. Compare the following for both IDA* and Best First Search\n",
    "    - Path taken to exit the grid\n",
    "    - Cost of this path. Is the path optimal for both?\n",
    "    - Total Number of nodes expanded to get this state [time complexity]\n",
    "    - Maximum number of nodes kept at the memory at any point in time [space complexity]\n"
   ]
  },
  {
   "cell_type": "markdown",
   "metadata": {},
   "source": [
    "Coding begins now!!!"
   ]
  },
  {
   "cell_type": "markdown",
   "metadata": {},
   "source": [
    "<span id=\"2\"></span>\n",
    "## Environment representation\n",
    "---\n",
    "[[top]](#0)\n",
    "\n",
    "### Maze\n",
    "Input maze is defined as a two dimensional matrix which is represented by (0,0) to (7,10). The cell value '1' represent the agent can move freely, where as '0' is the obstacle/block\n",
    "\n",
    "### Node\n",
    "The class represents the class to hold the variables required to represent a cell in the maze"
   ]
  },
  {
   "cell_type": "code",
   "execution_count": 35,
   "metadata": {},
   "outputs": [],
   "source": [
    "import queue\n",
    "import math\n",
    "\n",
    "#Environment representation goes here\n",
    "inputMaze = [[1, 1, 1, 1, 1, 1, 1, 1, 1, 1, 1],\n",
    "             [1, 1, 1, 1, 1, 1, 0, 0, 0, 1, 1],\n",
    "             [1, 1, 0, 0, 1, 1, 1, 1, 0, 1, 1],\n",
    "             [1, 1, 0, 0, 1, 1, 1, 1, 0, 1, 1],\n",
    "             [1, 1, 1, 1, 1, 1, 1, 1, 1, 1, 1],\n",
    "             [1, 1, 1, 1, 1, 1, 1, 1, 1, 1, 1],\n",
    "             [1, 1, 0, 0, 0, 0, 0, 0, 0, 1, 1],\n",
    "             [1, 1, 1, 1, 1, 1, 1, 1, 1, 1, 1]]\n",
    "\n",
    "class Node():\n",
    "    \"\"\"A node class for A* Pathfinding\"\"\"\n",
    "\n",
    "    def __init__(self, parent=None, position=None):\n",
    "        # Reference to the parent node\n",
    "        self.parent = parent\n",
    "        # Position of the current node\n",
    "        self.position = position\n",
    "\n",
    "        # Actual cost to reach the current node from the initial node\n",
    "        self.g = 0\n",
    "        # Heuristic, an estimate to reach destination from current node\n",
    "        self.h = 0\n",
    "        # Summation of cost and heuristic\n",
    "        self.f = 0\n",
    "\n",
    "    def __eq__(self, other):\n",
    "        return self.position == other.position\n",
    "    \n",
    "    def __cmp__(self, other):\n",
    "        return cmp(self.f, other.f)"
   ]
  },
  {
   "cell_type": "markdown",
   "metadata": {},
   "source": [
    "<span id=\"3\"></span>\n",
    "## Fringe data structure\n",
    "---\n",
    "[[top]](#0)\n",
    "\n",
    "Define the fringe (data structure) and its supported methods in the following code block"
   ]
  },
  {
   "cell_type": "code",
   "execution_count": 36,
   "metadata": {},
   "outputs": [],
   "source": [
    "#Fringe representation is a priority queue and its associated methods\n",
    "class PriorityQueue(object): \n",
    "    def __init__(self): \n",
    "        self.queue = [] \n",
    "  \n",
    "    def __str__(self): \n",
    "        return ' '.join([str(i) for i in self.queue]) \n",
    "  \n",
    "    # for checking if the queue is empty \n",
    "    def empty(self): \n",
    "        return self.queue == [] \n",
    "  \n",
    "    # for inserting an element in the queue \n",
    "    def append(self, data): \n",
    "        self.queue.append(data) \n",
    "  \n",
    "    # for inserting an element in the queue \n",
    "    def length(self): \n",
    "        return len(self.queue) \n",
    "\n",
    "    # for reading an element in the queue \n",
    "    def get(self, index): \n",
    "        return self.queue[index]\n",
    "\n",
    "    # for popping an element based on Priority \n",
    "    def pop(self): \n",
    "        try: \n",
    "            max = 0\n",
    "            for i in range(len(self.queue)): \n",
    "                if self.queue[i].f < self.queue[max].f: \n",
    "                    max = i \n",
    "            item = self.queue[max] \n",
    "            del self.queue[max] \n",
    "            return item \n",
    "        except IndexError: \n",
    "            print() \n",
    "            exit()\n",
    "            \n",
    "def testPriorityQueue():\n",
    "    q = PriorityQueue()\n",
    "    n1 = Node(None, (0,0))\n",
    "    n1.f=10\n",
    "\n",
    "    n2 = Node(None, (0,0))\n",
    "    n2.f=5\n",
    "\n",
    "    n3 = Node(None, (0,0))\n",
    "    n3.f = 20\n",
    "\n",
    "    q.append(n1)\n",
    "    q.append(n2)\n",
    "    q.append(n3)\n",
    "\n",
    "    while not q.empty():\n",
    "        print(q.get().f)"
   ]
  },
  {
   "cell_type": "markdown",
   "metadata": {},
   "source": [
    "<span id=\"4\"></span>\n",
    "## IDA* Algorithm\n",
    "---\n",
    "[[top]](#0)\n",
    "\n",
    "Define your IDA* in the following code block"
   ]
  },
  {
   "cell_type": "code",
   "execution_count": 37,
   "metadata": {},
   "outputs": [],
   "source": [
    "#Algorithm IDA*\n",
    "import sys\n",
    "\n",
    "# Class that defines data structure and supporting methods to run IDA* algorithm,\n",
    "class IDAStarSearch:\n",
    "    def __init__(self, maze, start, end):\n",
    "        \n",
    "        # An array of nodes to represent the traversal path\n",
    "        self.solution = []\n",
    "        \n",
    "        # Instance variable of the maze\n",
    "        self.maze = maze\n",
    "        \n",
    "        # Instance variable of the start node\n",
    "        self.start_node = Node(None, start)\n",
    "        \n",
    "        # Instance variable of the end node\n",
    "        self.end_node = Node(None, end)\n",
    "        \n",
    "        # Priority queue represents the open list\n",
    "        self.open_list = PriorityQueue()\n",
    "        \n",
    "        # Queue represents the closed list\n",
    "        self.closed_list = queue.Queue()\n",
    "\n",
    "        # Set the heuristcs of start node\n",
    "        self.start_node.f = self.start_node.h = self.getheuristic(self.start_node)\n",
    "\n",
    "        # Add the current start node to the open list\n",
    "        self.open_list.append(self.start_node)\n",
    "        \n",
    "    \n",
    "    # Method to calculate heuristic value of the given node (manhattan distance to the end node)\n",
    "    # It can be euclidean distance as well.\n",
    "    #\n",
    "    # The function is to underestimate distance to end node in the maze based on admisssible property of the A* algorithm\n",
    "    def getheuristic(self, node):\n",
    "        # Euclidean distance\n",
    "        # ((child.position[0] - end_node.position[0]) ** 2) + ((child.position[1] - end_node.position[1]) ** 2)\n",
    "        # Return manhattan distance\n",
    "        return  abs(node.position[0] - self.end_node.position[0]) + abs(node.position[1] - self.end_node.position[1])\n",
    "    \n",
    "    # Method to check if the given position is out side of the maze\n",
    "    def isoutside(self, maze, position):\n",
    "        return position[0] > (len(maze) - 1) or position[0] < 0 or position[1] > (len(maze[len(maze)-1]) -1) or position[1] < 0\n",
    "    \n",
    "    # Method for IDA* search\n",
    "    def solve(self):\n",
    "        \n",
    "        # Ensure start node is inside the maze\n",
    "        if self.isoutside(self.maze, self.start_node.position):\n",
    "            return 'INVALID Start position'\n",
    "\n",
    "        # Ensure end node is insize the mase\n",
    "        if self.isoutside(self.maze, self.end_node.position):\n",
    "            return 'INVALID End position'\n",
    "        \n",
    "        # start the bound with the heuristic of start node\n",
    "        bound = self.getheuristic(self.start_node)\n",
    "\n",
    "        # Search begins\n",
    "        while True:\n",
    "            \n",
    "            # Pick the top node in open list and start search\n",
    "            current_node = self.open_list.pop()\n",
    "            self.closed_list.put(current_node)\n",
    "            t = self.search(current_node, 0, bound)\n",
    "            \n",
    "            # If found return the solution path\n",
    "            if t == 'FOUND':\n",
    "                path = []\n",
    "                current = self.solution[0]\n",
    "                while current is not None:\n",
    "                    path.append(current.position)\n",
    "                    current = current.parent\n",
    "                return path[::-1] # Return reversed path\n",
    "            else:\n",
    "                path = []\n",
    "                return path[::-1] # Return reversed path\n",
    "\n",
    "    # Recursive method for search\n",
    "    def search(self, current_node, g, bound):\n",
    "\n",
    "        # Bound is calculated based on heuristic\n",
    "        f = g + self.getheuristic(current_node)\n",
    "        if f > bound:\n",
    "            return f\n",
    "\n",
    "        # Match if heuristic of the end node\n",
    "        if self.getheuristic(current_node) == 0:\n",
    "            return 'FOUND'\n",
    "\n",
    "        # Generate children\n",
    "        children = []\n",
    "        for new_position in [(0, -1), (0, 1), (-1, 0), (1, 0), (-1, -1), (-1, 1), (1, -1), (1, 1)]:\n",
    "            \n",
    "            # Get node position\n",
    "            node_position = (current_node.position[0] + new_position[0], current_node.position[1] + new_position[1])\n",
    "\n",
    "            # Make sure boundaries are not crossed\n",
    "            if self.isoutside(self.maze, node_position):\n",
    "                continue\n",
    "\n",
    "            # Make sure walkable terrain\n",
    "            if self.maze[node_position[0]][node_position[1]] != 1:\n",
    "                continue\n",
    "\n",
    "            # Create new node\n",
    "            neighbour = Node(current_node, node_position)\n",
    "            \n",
    "            # Append\n",
    "            children.append(neighbour)\n",
    "\n",
    "        # Loop through children and check if children are in closed_list\n",
    "        for child in children:\n",
    "            # Child is on the closed list\n",
    "            for closed_child in list(self.closed_list.queue):\n",
    "                if child == closed_child:\n",
    "                    continue\n",
    "            \n",
    "            # Update heuristics of children\n",
    "            child.h = self.getheuristic(child)\n",
    "            child.f = child.h\n",
    "\n",
    "            # Child is already in the open list\n",
    "            for i in range(self.open_list.length()):\n",
    "                open_node = self.open_list.get(i)\n",
    "                if child == open_node and child.g > open_node.g:\n",
    "                    continue\n",
    "\n",
    "            # Add the child to the open list\n",
    "            self.open_list.append(child)\n",
    "        \n",
    "        # Resetting the next threshold\n",
    "        minimum = sys.maxsize\n",
    "        next_node = self.open_list.pop()\n",
    "        self.closed_list.put(next_node)\n",
    "        t = self.search(next_node, g + 1, bound)\n",
    "        if t == 'FOUND':\n",
    "            self.solution.append(next_node)\n",
    "            return 'FOUND'\n",
    "        \n",
    "        # set next threshold\n",
    "        if t < minimum:\n",
    "            minimum = t\n",
    "        return minimum"
   ]
  },
  {
   "cell_type": "markdown",
   "metadata": {},
   "source": [
    "<span id=\"5\"></span>\n",
    "## Best First Search Algorithm\n",
    "---\n",
    "[[top]](#0)\n",
    "\n",
    "Define your Greedy Best First Search algorithm in the following code block"
   ]
  },
  {
   "cell_type": "code",
   "execution_count": 38,
   "metadata": {},
   "outputs": [],
   "source": [
    "#Algorithm Best First Search\n",
    "\n",
    "class BestFirstSearch:\n",
    "    def __init__(self, maze, start, end):\n",
    "        \n",
    "        # An array of nodes to represent the traversal path\n",
    "        self.solution = []\n",
    "        \n",
    "        # Instance variable of the maze\n",
    "        self.maze = maze\n",
    "        \n",
    "        # Instance variable of the start node\n",
    "        self.start_node = Node(None, start)\n",
    "        \n",
    "        # Instance variable of the end node\n",
    "        self.end_node = Node(None, end)\n",
    "        \n",
    "        # Priority queue represents the open list\n",
    "        self.open_list = PriorityQueue()\n",
    "        \n",
    "        # Queue represents the closed list\n",
    "        self.closed_list = queue.Queue()\n",
    "\n",
    "        # Set the heuristcs of start node\n",
    "        self.start_node.f = self.start_node.h = self.getheuristic(self.start_node, self.end_node)\n",
    "\n",
    "        # Add the current start node to the open list\n",
    "        self.open_list.append(self.start_node)\n",
    "\n",
    "    # Method to check if the given position is outside maze\n",
    "    def isoutside(self, maze, position):\n",
    "        return position[0] > (len(maze) - 1) or position[0] < 0 or position[1] > (len(maze[len(maze)-1]) -1) or position[1] < 0\n",
    "\n",
    "    def getheuristic(self, node, end):\n",
    "        # Euclidean distance\n",
    "        # ((child.position[0] - end_node.position[0]) ** 2) + ((child.position[1] - end_node.position[1]) ** 2)\n",
    "        # Manhattan distance\n",
    "        return (abs(node.position[0] - end.position[0]) + abs(node.position[1] - end.position[1]))\n",
    "\n",
    "    def search(self):\n",
    "        \"\"\"Returns a list of tuples as a path from the given start to the given end in the given maze\"\"\"\n",
    "\n",
    "        if self.isoutside(self.maze, self.start_node.position):\n",
    "            return 'INVALID Start node'\n",
    "    \n",
    "        if self.isoutside(self.maze, self.end_node.position):\n",
    "            return 'INVALID Start node'\n",
    "\n",
    "        # Initialize both open and closed list\n",
    "        self.open_list = PriorityQueue()\n",
    "        self.closed_list = queue.Queue()\n",
    "\n",
    "        # Add the start node\n",
    "        self.open_list.append(self.start_node)\n",
    "    \n",
    "        # Loop until you find the end\n",
    "        while self.open_list.length() > 0:\n",
    "\n",
    "            # Get the current node\n",
    "            current_node = self.open_list.pop()\n",
    "            self.closed_list.put(current_node)\n",
    "\n",
    "            # Found the goal\n",
    "            if current_node == self.end_node:\n",
    "                path = []\n",
    "                current = current_node\n",
    "                while current is not None:\n",
    "                    path.append(current.position)\n",
    "                    current = current.parent\n",
    "                return path[::-1] # Return reversed path\n",
    "\n",
    "            # Generate children\n",
    "            children = []\n",
    "            for new_position in [(0, -1), (0, 1), (-1, 0), (1, 0), (-1, -1), (-1, 1), (1, -1), (1, 1)]: # Adjacent squares\n",
    "\n",
    "                # Get node position\n",
    "                node_position = (current_node.position[0] + new_position[0], current_node.position[1] + new_position[1])\n",
    "\n",
    "                # Make sure within range\n",
    "                if self.isoutside(self.maze, node_position):\n",
    "                    continue\n",
    "\n",
    "                # Make sure walkable terrain\n",
    "                if self.maze[node_position[0]][node_position[1]] != 1:\n",
    "                    continue\n",
    "\n",
    "                # Create new node\n",
    "                new_node = Node(current_node, node_position)\n",
    "\n",
    "                # Append\n",
    "                children.append(new_node)\n",
    "\n",
    "            # Loop through children\n",
    "            for child in children:\n",
    "\n",
    "                # Child is on the closed list\n",
    "                for closed_child in list(self.closed_list.queue):\n",
    "                    if child == closed_child:\n",
    "                        continue\n",
    "\n",
    "                # set the heuristic to sort in priority queue\n",
    "                child.h = self.getheuristic(child, self.end_node)\n",
    "                child.f = child.h\n",
    "\n",
    "                # Child is already in the open list\n",
    "                for i in range(self.open_list.length()):\n",
    "                    open_node = self.open_list.get(i)\n",
    "                    if child == open_node and child.g > open_node.g:\n",
    "                        continue\n",
    "\n",
    "                # Add the child to the open list\n",
    "                self.open_list.append(child)"
   ]
  },
  {
   "cell_type": "markdown",
   "metadata": {},
   "source": [
    "Feel free to add code blocks for any other methods needed starting here."
   ]
  },
  {
   "cell_type": "code",
   "execution_count": 39,
   "metadata": {},
   "outputs": [],
   "source": [
    "#Code Block 1"
   ]
  },
  {
   "cell_type": "markdown",
   "metadata": {},
   "source": [
    "<span id=\"6\"></span>\n",
    "## Search Execution\n",
    "---\n",
    "[[top]](#0)\n",
    "\n",
    "Call your main function/algorithm for IDA* in the next code block with appropriate input representation"
   ]
  },
  {
   "cell_type": "code",
   "execution_count": 40,
   "metadata": {},
   "outputs": [
    {
     "name": "stdout",
     "output_type": "stream",
     "text": [
      "Starting IDA* Algorithm\n"
     ]
    }
   ],
   "source": [
    "#Computation call for IDA*\n",
    "if __name__ == '__main__':\n",
    "    print('Starting IDA* Algorithm')\n",
    "    start = (0, 2)\n",
    "    end = (5, 10)\n",
    "    \n",
    "    idastar = IDAStarSearch(inputMaze, start, end)\n",
    "    idapath = idastar.solve()"
   ]
  },
  {
   "cell_type": "markdown",
   "metadata": {},
   "source": [
    "Call your main function/algorithm for Best First Search in the next code block with appropriate input representation"
   ]
  },
  {
   "cell_type": "code",
   "execution_count": 41,
   "metadata": {},
   "outputs": [
    {
     "name": "stdout",
     "output_type": "stream",
     "text": [
      "Starting Best First Search\n"
     ]
    }
   ],
   "source": [
    "#Computation call for Best First Search\n",
    "#Computation call for Best First Search\n",
    "if __name__ == '__main__':\n",
    "    print('Starting Best First Search')\n",
    "    start = (0, 2)\n",
    "    end = (5, 10)\n",
    "    bfs = BestFirstSearch(inputMaze, start, end)\n",
    "    bfspath = bfs.search()"
   ]
  },
  {
   "cell_type": "markdown",
   "metadata": {},
   "source": [
    "<span id=\"7\"></span>\n",
    "## Results\n",
    "---\n",
    "[[top]](#0)\n",
    "\n",
    "The agent should provide expected output for questions mentioned below in the subsequent blocks"
   ]
  },
  {
   "cell_type": "markdown",
   "metadata": {},
   "source": [
    "(1) Path taken to reach destination from source for IDA*"
   ]
  },
  {
   "cell_type": "code",
   "execution_count": 42,
   "metadata": {},
   "outputs": [
    {
     "name": "stdout",
     "output_type": "stream",
     "text": [
      "Traversal path by IDA*:  [(0, 2), (1, 3), (2, 4), (3, 5), (4, 6), (5, 7), (5, 8), (5, 9), (5, 10)]\n"
     ]
    }
   ],
   "source": [
    "# Execute statement to retrieve the path taken here using IDA*\n",
    "print(\"Traversal path by IDA*: \", idapath)"
   ]
  },
  {
   "cell_type": "markdown",
   "metadata": {},
   "source": [
    "(1) Path taken to reach destination from source for Best First Search"
   ]
  },
  {
   "cell_type": "code",
   "execution_count": 43,
   "metadata": {},
   "outputs": [
    {
     "name": "stdout",
     "output_type": "stream",
     "text": [
      "Traversal path by Best First Search:  [(0, 2), (1, 3), (2, 4), (3, 5), (4, 6), (5, 7), (5, 8), (5, 9), (5, 10)]\n"
     ]
    }
   ],
   "source": [
    "# Execute statement to retrieve the path taken here using Best First Search\n",
    "print(\"Traversal path by Best First Search: \", bfspath)"
   ]
  },
  {
   "cell_type": "markdown",
   "metadata": {},
   "source": [
    "(2) Cost of the path for IDA* here"
   ]
  },
  {
   "cell_type": "code",
   "execution_count": 44,
   "metadata": {},
   "outputs": [
    {
     "name": "stdout",
     "output_type": "stream",
     "text": [
      "Cost of the path using IDA*:  9\n"
     ]
    }
   ],
   "source": [
    "# Execute statement to retrieve the cost of the path here using IDA*\n",
    "print(\"Cost of the path using IDA*: \", len(idapath))"
   ]
  },
  {
   "cell_type": "markdown",
   "metadata": {},
   "source": [
    "(2) Cost of the path for Best First Search here"
   ]
  },
  {
   "cell_type": "code",
   "execution_count": 45,
   "metadata": {},
   "outputs": [
    {
     "name": "stdout",
     "output_type": "stream",
     "text": [
      "Cost of the path using Best First Search:  9\n"
     ]
    }
   ],
   "source": [
    "# Execute statement to retrieve the cost of the path here using Best First Search\n",
    "print(\"Cost of the path using Best First Search: \", len(bfspath))"
   ]
  },
  {
   "cell_type": "markdown",
   "metadata": {},
   "source": [
    "(3) Total Number of nodes expanded to get this state using IDA*"
   ]
  },
  {
   "cell_type": "code",
   "execution_count": 46,
   "metadata": {},
   "outputs": [
    {
     "name": "stdout",
     "output_type": "stream",
     "text": [
      "Total number of nodes expanded by IDA:  43\n"
     ]
    }
   ],
   "source": [
    "# Execute statement to retrieve the total number of nodes expanded to get this state using IDA* here\n",
    "print(\"Total number of nodes expanded by IDA: \", idastar.open_list.length())"
   ]
  },
  {
   "cell_type": "markdown",
   "metadata": {},
   "source": [
    "(3) Total Number of nodes expanded to get this state using Best First Search"
   ]
  },
  {
   "cell_type": "code",
   "execution_count": 47,
   "metadata": {},
   "outputs": [
    {
     "name": "stdout",
     "output_type": "stream",
     "text": [
      "Total number of nodes expanded by Best First Search:  43\n"
     ]
    }
   ],
   "source": [
    "# Execute statement to retrieve the total number of nodes expanded to get this state using Best First Search here\n",
    "print(\"Total number of nodes expanded by Best First Search: \", bfs.open_list.length())"
   ]
  },
  {
   "cell_type": "markdown",
   "metadata": {},
   "source": [
    "(4) Maximum number of nodes kept at the memory at any point in time using IDA*"
   ]
  },
  {
   "cell_type": "code",
   "execution_count": 48,
   "metadata": {},
   "outputs": [
    {
     "name": "stdout",
     "output_type": "stream",
     "text": [
      "Total number of nodes kept at the memory by IDA*:  52\n"
     ]
    }
   ],
   "source": [
    "# Execute Output for the maximum number of nodes kept at the memory at any point in time using IDA* here\n",
    "print(\"Total number of nodes kept at the memory by IDA*: \", (idastar.open_list.length() + len(idastar.closed_list.queue)))"
   ]
  },
  {
   "cell_type": "markdown",
   "metadata": {},
   "source": [
    "(4) Maximum number of nodes kept at the memory at any point in time using Best First Search"
   ]
  },
  {
   "cell_type": "code",
   "execution_count": 49,
   "metadata": {},
   "outputs": [
    {
     "name": "stdout",
     "output_type": "stream",
     "text": [
      "Total number of nodes kept at the memory by BFS:  52\n"
     ]
    }
   ],
   "source": [
    "# Execute Output for the maximum number of nodes kept at the memory at any point in time using Best First Search here\n",
    "print(\"Total number of nodes kept at the memory by BFS: \", (bfs.open_list.length() + len(bfs.closed_list.queue)))"
   ]
  },
  {
   "cell_type": "markdown",
   "metadata": {},
   "source": [
    "All the best!! Happy Coding!!\n",
    "Let human intelligence prevail"
   ]
  }
 ],
 "metadata": {
  "kernelspec": {
   "display_name": "Python 3",
   "language": "python",
   "name": "python3"
  },
  "language_info": {
   "codemirror_mode": {
    "name": "ipython",
    "version": 3
   },
   "file_extension": ".py",
   "mimetype": "text/x-python",
   "name": "python",
   "nbconvert_exporter": "python",
   "pygments_lexer": "ipython3",
   "version": "3.7.3"
  }
 },
 "nbformat": 4,
 "nbformat_minor": 2
}
