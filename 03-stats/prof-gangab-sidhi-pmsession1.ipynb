{
 "cells": [
  {
   "cell_type": "markdown",
   "metadata": {},
   "source": [
    "# CORRELATION"
   ]
  },
  {
   "cell_type": "markdown",
   "metadata": {},
   "source": [
    "In univariate situation usual way of analysis is to describe the data by computing\n",
    "\n",
    "**When there are to or more variable are studied it is essential to find out whether there is any relationship between these variables, if so, then need to know**\n",
    "\n",
    "1. What type of relationship\n",
    "2. What extent they are related"
   ]
  },
  {
   "cell_type": "markdown",
   "metadata": {},
   "source": [
    "- Correlation if finding the relationship betwweeen two or more quantitative variable withour being able to infer causal relations relationships i.e., \n",
    "- Corr is statistical technique used to determine the degree to which two are more related\n",
    "- MEasures the relative strength of the linear relationship between two variables.\n",
    "\n",
    "**Scattered diagram**\n",
    "\n",
    "Identify nature of relationship between two variables\n",
    "\n",
    "#### Relationship can be \n",
    "- Positive Relation \n",
    "- Negative Relation \n",
    "- No Relation "
   ]
  },
  {
   "cell_type": "markdown",
   "metadata": {},
   "source": [
    "#### TYPES of corr\n",
    "\n",
    "**Simple Corr**\n",
    "Two variable\n",
    "\n",
    "**Partial Corr**\n",
    "\n",
    "\n",
    "**Multi Corr**  \n",
    "All variable together\n",
    "\n",
    "\n",
    "### Measures of Corr\n",
    "\n",
    "#### Karl Persons's Product Moment Corr (r) \n",
    "\n",
    "- Sign denotes Posituive or NEgative relation\n",
    "- Value denote strength of the relation \n",
    "\n",
    "-1 <  r < +1\n",
    "\n",
    "\n",
    "The **Covariance** explains the relationship between the two variable, but the units of the variable X and Y is attached with the values of hte **covariance**.\n",
    "\n",
    "``` Cov(x,y) =  sig[(x-xbar)(y-ybar)]/n-1````\n",
    "\n",
    "Karl Pearson suggested to remove Units for Cov  for simpler interpretation. So he suggested to divide by std.\n",
    "\n",
    "``` So  r = Cov(x,y) / Std(x).Std(y)```\n",
    "\n",
    "``` => So  r = Cov(x,y) / sqrt(var(x)) . sqrt( var(y)) ```\n",
    "\n",
    "``` => So  r = sigma[X * Y] / sigma[square(X)] * sigma[square(Y)]```\n",
    "\n",
    "\n",
    "\n",
    "\n",
    "\n",
    "\n",
    "\n",
    "#### Spearman's Rank Corr\n",
    "\n",
    "**Important assumption of Pearson Corr is  two variables X and Y are quantitive and normally distributed**\n",
    "\n",
    "Apply Non parametric Test to check normality\n",
    "\n",
    "- Kolmogorov - Smirnov TEST\n",
    "\n",
    "- Shapiro - Wilk Test\n",
    "```\n",
    "if p value <= 0.05 it X is normal\n",
    "if p> 0.05 ( Normal) \n",
    "````\n",
    "\n",
    "|Parametric | Non Parametric ( when normality assumption fails ) |\n",
    "|--|--|\n",
    "|Un paired t test|Mann-Whitney U test|\n",
    "|Paired t test|Wilcoxon Signed Rank Test|\n",
    "|ANOVA| Kruskal - Wallis test|\n",
    "\n",
    "\n",
    "Both vars are ordered  - use spearmans\n",
    "\n",
    "One is ordinal and one is quantitative - spearmans rank Corr\n",
    "\n",
    "\n",
    "#### Procedure \n",
    "- Rank the values of X with smallest value as rank,  next value 2, and so on ..  asign rank n for the last(largest).\n",
    "- Incase of repeat or tied use average\n",
    "- Computer the value of di for each pair of observation by substracting the rank Y \n",
    "\n",
    "<img src =\"./i/spearman-rank.jpg\" width=200/>\n",
    "\n",
    "\n",
    "Either of the va the numneracal value is called Corr Coefficient (r)"
   ]
  },
  {
   "cell_type": "code",
   "execution_count": null,
   "metadata": {},
   "outputs": [],
   "source": []
  },
  {
   "cell_type": "code",
   "execution_count": null,
   "metadata": {},
   "outputs": [],
   "source": []
  },
  {
   "cell_type": "code",
   "execution_count": null,
   "metadata": {},
   "outputs": [],
   "source": []
  }
 ],
 "metadata": {
  "kernelspec": {
   "display_name": "Python 3",
   "language": "python",
   "name": "python3"
  },
  "language_info": {
   "codemirror_mode": {
    "name": "ipython",
    "version": 3
   },
   "file_extension": ".py",
   "mimetype": "text/x-python",
   "name": "python",
   "nbconvert_exporter": "python",
   "pygments_lexer": "ipython3",
   "version": "3.7.1"
  }
 },
 "nbformat": 4,
 "nbformat_minor": 2
}
