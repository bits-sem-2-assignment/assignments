{
 "cells": [
  {
   "cell_type": "markdown",
   "metadata": {},
   "source": [
    "## Statistics Prof Gangaborah"
   ]
  },
  {
   "cell_type": "code",
   "execution_count": 1,
   "metadata": {},
   "outputs": [],
   "source": [
    "\n",
    "import numpy as np\n"
   ]
  },
  {
   "cell_type": "code",
   "execution_count": 2,
   "metadata": {},
   "outputs": [],
   "source": [
    "X = np.array([10,8,2,1,5,6])\n",
    "Y = np.array([2,3,9,7,6,5])"
   ]
  },
  {
   "cell_type": "markdown",
   "metadata": {},
   "source": [
    "#### SIGMA X SIGMA Y  SIGMA X2  SIGMA Y2  SIGMA XY"
   ]
  },
  {
   "cell_type": "code",
   "execution_count": 7,
   "metadata": {},
   "outputs": [],
   "source": [
    "sig_x = np.sum(X)\n",
    "sig_y = np.sum(Y)\n",
    "\n",
    "sigx2 = np.sum(X*X)\n",
    "sigy2 = np.sum(Y*Y)\n",
    "\n",
    "sigxy = np.sum(X*Y)\n",
    "\n",
    "\n",
    "r = (6* sig_x * sig_y)\n"
   ]
  },
  {
   "cell_type": "markdown",
   "metadata": {},
   "source": [
    "## Testing for Normalit"
   ]
  },
  {
   "cell_type": "markdown",
   "metadata": {},
   "source": [
    "1. Kolmogorov - Smirnov test\n",
    "2. Shapiro - Wilk Test\n",
    "\n",
    "In case of p>0.05  Normally distributed\n",
    "\n",
    "p< 0.05 Non-normal\n",
    "\n",
    "\n",
    "### Incase of failuer to test for normality\n",
    "- Incase of unpaired non normal  use  **Mann-Whitney U test**\n",
    "- For paired non normal use **Wilcoxon Signed Rank test**\n",
    "- Anova -> Kruskal - Wallis test"
   ]
  },
  {
   "cell_type": "markdown",
   "metadata": {},
   "source": [
    "### SPEARMAN RANK CORRELATTION (R)"
   ]
  },
  {
   "cell_type": "markdown",
   "metadata": {},
   "source": [
    "Spearmann Rank Correation coefficient use used in following conditions\n",
    "\n",
    "- Both vars are quantitive\n",
    "- \n",
    "\n",
    "### Procedure"
   ]
  },
  {
   "cell_type": "markdown",
   "metadata": {},
   "source": [
    "- Rank the values of X with smallest value as rank,  next value 2, and so on ..  asign rank n for the last(largest).\n",
    "- Incase of repeat or tied use average\n",
    "- Computer the value of di for each pair of observation by substracting the rank Y "
   ]
  },
  {
   "cell_type": "code",
   "execution_count": null,
   "metadata": {},
   "outputs": [],
   "source": []
  }
 ],
 "metadata": {
  "kernelspec": {
   "display_name": "Python 3",
   "language": "python",
   "name": "python3"
  },
  "language_info": {
   "codemirror_mode": {
    "name": "ipython",
    "version": 3
   },
   "file_extension": ".py",
   "mimetype": "text/x-python",
   "name": "python",
   "nbconvert_exporter": "python",
   "pygments_lexer": "ipython3",
   "version": "3.7.1"
  }
 },
 "nbformat": 4,
 "nbformat_minor": 2
}
