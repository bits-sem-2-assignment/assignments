{
 "cells": [
  {
   "cell_type": "markdown",
   "metadata": {},
   "source": [
    "# Predicting Leukemia Remission Occurance Using Logistic Regression\n",
    "## Machine Learning, Assignment - 1 \n",
    "---\n",
    "Submitters \n",
    "<table style=\"float:left\">\n",
    "    <tbody>\n",
    "        <tr>\n",
    "            <td>1</td>\n",
    "            <td>Nageswar Rao</td>\n",
    "            <td> * </td>\n",
    "        </tr>\n",
    "         <tr>\n",
    "            <td>2</td>\n",
    "            <td>Saranya</td>\n",
    "            <td> * </td>\n",
    "        </tr>\n",
    "         <tr>\n",
    "            <td>3</td>\n",
    "            <td>Prabha Sasikanth</td>\n",
    "            <td>2018ABO4094</td>\n",
    "        </tr>\n",
    "    </tbody>\n",
    "</table>\n"
   ]
  },
  {
   "cell_type": "markdown",
   "metadata": {},
   "source": [
    "## Table of Contents  <span id=\"0\" ></span>\n",
    "1. [Import Datasets](#1)\n",
    "2. [Extracting input and target variables](#2)\n",
    "3. [Visualizing and Exploring dataset](#3)\n",
    "4. [Traning set and Test set](#4)\n",
    "5. [Train a Logistic Regression Model](#5)\n",
    "6. [Coefficients](#6)\n",
    "7. [Accuracy and Confusion Matrix](#7)\n",
    "8. [Decision Boundary](#8)\n",
    "9. [Positively associated features with the target column.](#9)\n",
    "10. [Predict for Given Data](#10)\n"
   ]
  },
  {
   "cell_type": "markdown",
   "metadata": {},
   "source": [
    "---"
   ]
  },
  {
   "cell_type": "markdown",
   "metadata": {},
   "source": [
    "# Problem "
   ]
  },
  {
   "cell_type": "markdown",
   "metadata": {},
   "source": [
    "\n",
    "Consider data published on n = 27 leukemia patients. The data (leukemia_remission.csv) has a response variable of whether leukemia remission occurred (REMISS), which is given by a 1.\n",
    "\n",
    "### Data Source \n",
    "\n",
    "[Leukemia Remission](\"https://newonlinecourses.science.psu.edu/stat501/sites/onlinecourses.science.psu.edu.stat501/files/data/leukemia_remission/index.txt\")\n",
    "\n",
    "\n",
    "The predictor variables are \n",
    "1. cellularity of the marrow clot section (CELL), \n",
    "2. smear differential percentage of blasts (SMEAR), \n",
    "3. percentage of absolute marrow leukemia cell infiltrate (INFIL), \n",
    "4. percentage labeling index of the bone marrow leukemia cells (LI), \n",
    "5. absolute number of blasts in the peripheral blood (BLAST), \n",
    "6. and the highest temperature prior to start of treatment (TEMP)."
   ]
  },
  {
   "cell_type": "markdown",
   "metadata": {},
   "source": [
    "<span id=\"1\"></span>\n",
    "## 1. Import Datasets \n",
    "[[top]](#0)\n",
    "\n"
   ]
  },
  {
   "cell_type": "code",
   "execution_count": 495,
   "metadata": {},
   "outputs": [
    {
     "data": {
      "text/plain": [
       "('./leukemia_remission.txt', <http.client.HTTPMessage at 0x1a2b8d4b38>)"
      ]
     },
     "execution_count": 495,
     "metadata": {},
     "output_type": "execute_result"
    }
   ],
   "source": [
    "import csv\n",
    "import sys\n",
    "import urllib.request as req\n",
    "import numpy as np\n",
    "import pandas as pd\n",
    "from matplotlib import pyplot as plt\n",
    "import seaborn as sb\n",
    "sb.set(style=\"white\")\n",
    "sb.set(style=\"whitegrid\", color_codes=True)\n",
    "\n",
    "dataurl = 'https://newonlinecourses.science.psu.edu/stat501/sites/onlinecourses.science.psu.edu.stat501/files/data/leukemia_remission/index.txt'\n",
    "req.urlretrieve(dataurl, './leukemia_remission.txt')"
   ]
  },
  {
   "cell_type": "markdown",
   "metadata": {},
   "source": [
    "Convert to CSV and form a DataFrame."
   ]
  },
  {
   "cell_type": "code",
   "execution_count": 496,
   "metadata": {},
   "outputs": [
    {
     "data": {
      "text/html": [
       "<div>\n",
       "<style scoped>\n",
       "    .dataframe tbody tr th:only-of-type {\n",
       "        vertical-align: middle;\n",
       "    }\n",
       "\n",
       "    .dataframe tbody tr th {\n",
       "        vertical-align: top;\n",
       "    }\n",
       "\n",
       "    .dataframe thead th {\n",
       "        text-align: right;\n",
       "    }\n",
       "</style>\n",
       "<table border=\"1\" class=\"dataframe\">\n",
       "  <thead>\n",
       "    <tr style=\"text-align: right;\">\n",
       "      <th></th>\n",
       "      <th>REMISS</th>\n",
       "      <th>CELL</th>\n",
       "      <th>SMEAR</th>\n",
       "      <th>INFIL</th>\n",
       "      <th>LI</th>\n",
       "      <th>BLAST</th>\n",
       "      <th>TEMP</th>\n",
       "    </tr>\n",
       "  </thead>\n",
       "  <tbody>\n",
       "    <tr>\n",
       "      <th>22</th>\n",
       "      <td>1</td>\n",
       "      <td>1.00</td>\n",
       "      <td>0.58</td>\n",
       "      <td>0.58</td>\n",
       "      <td>1.0</td>\n",
       "      <td>0.53</td>\n",
       "      <td>1.00</td>\n",
       "    </tr>\n",
       "    <tr>\n",
       "      <th>23</th>\n",
       "      <td>0</td>\n",
       "      <td>0.95</td>\n",
       "      <td>0.32</td>\n",
       "      <td>0.30</td>\n",
       "      <td>1.6</td>\n",
       "      <td>0.89</td>\n",
       "      <td>0.99</td>\n",
       "    </tr>\n",
       "    <tr>\n",
       "      <th>24</th>\n",
       "      <td>1</td>\n",
       "      <td>1.00</td>\n",
       "      <td>0.60</td>\n",
       "      <td>0.60</td>\n",
       "      <td>1.7</td>\n",
       "      <td>0.96</td>\n",
       "      <td>0.99</td>\n",
       "    </tr>\n",
       "    <tr>\n",
       "      <th>25</th>\n",
       "      <td>1</td>\n",
       "      <td>1.00</td>\n",
       "      <td>0.69</td>\n",
       "      <td>0.69</td>\n",
       "      <td>0.9</td>\n",
       "      <td>0.40</td>\n",
       "      <td>0.99</td>\n",
       "    </tr>\n",
       "    <tr>\n",
       "      <th>26</th>\n",
       "      <td>0</td>\n",
       "      <td>1.00</td>\n",
       "      <td>0.73</td>\n",
       "      <td>0.73</td>\n",
       "      <td>0.7</td>\n",
       "      <td>0.40</td>\n",
       "      <td>0.99</td>\n",
       "    </tr>\n",
       "  </tbody>\n",
       "</table>\n",
       "</div>"
      ],
      "text/plain": [
       "    REMISS  CELL  SMEAR  INFIL   LI  BLAST  TEMP\n",
       "22       1  1.00   0.58   0.58  1.0   0.53  1.00\n",
       "23       0  0.95   0.32   0.30  1.6   0.89  0.99\n",
       "24       1  1.00   0.60   0.60  1.7   0.96  0.99\n",
       "25       1  1.00   0.69   0.69  0.9   0.40  0.99\n",
       "26       0  1.00   0.73   0.73  0.7   0.40  0.99"
      ]
     },
     "execution_count": 496,
     "metadata": {},
     "output_type": "execute_result"
    }
   ],
   "source": [
    "df = pd.read_csv('leukemia_remission.txt', sep=\"\\t\", encoding='utf-16', header='infer')\n",
    "df.describe()\n",
    "xtrain.head()\n",
    "df[22:]"
   ]
  },
  {
   "cell_type": "markdown",
   "metadata": {},
   "source": [
    "\n",
    "<span id=\"2\"></span>\n",
    "## 2. Extracting input and target variables\n",
    "[[top]](#0)\n",
    "\n"
   ]
  },
  {
   "cell_type": "code",
   "execution_count": 497,
   "metadata": {},
   "outputs": [
    {
     "name": "stdout",
     "output_type": "stream",
     "text": [
      "Type and Shape  <class 'pandas.core.series.Series'> (27,)\n",
      "Type and Shape  <class 'pandas.core.frame.DataFrame'> (27, 6)\n"
     ]
    }
   ],
   "source": [
    "features = df[:][['CELL','SMEAR','INFIL','LI','BLAST','TEMP']]\n",
    "#features = df[:][['SMEAR','INFIL','LI','BLAST']]\n",
    "#features = df[:][['INFIL','BLAST']]\n",
    "target =  df[:]['REMISS']\n",
    "\n",
    "x = features\n",
    "y = target\n",
    "\n",
    "print (\"Type and Shape \" , type(y),y.shape)\n",
    "print (\"Type and Shape \" , type(x),x.shape)\n"
   ]
  },
  {
   "cell_type": "code",
   "execution_count": null,
   "metadata": {},
   "outputs": [],
   "source": []
  },
  {
   "cell_type": "markdown",
   "metadata": {},
   "source": [
    "\n",
    "\n",
    "<span id=\"3\"></span>\n",
    "### 3. Visualizing and Exploring dataset\n",
    "[[top]](#0)\n",
    "\n"
   ]
  },
  {
   "cell_type": "code",
   "execution_count": 498,
   "metadata": {},
   "outputs": [
    {
     "name": "stdout",
     "output_type": "stream",
     "text": [
      "<class 'pandas.core.frame.DataFrame'>\n",
      "RangeIndex: 27 entries, 0 to 26\n",
      "Data columns (total 7 columns):\n",
      "REMISS    27 non-null int64\n",
      "CELL      27 non-null float64\n",
      "SMEAR     27 non-null float64\n",
      "INFIL     27 non-null float64\n",
      "LI        27 non-null float64\n",
      "BLAST     27 non-null float64\n",
      "TEMP      27 non-null float64\n",
      "dtypes: float64(6), int64(1)\n",
      "memory usage: 1.6 KB\n"
     ]
    }
   ],
   "source": [
    "df.info()\n"
   ]
  },
  {
   "cell_type": "code",
   "execution_count": 499,
   "metadata": {},
   "outputs": [
    {
     "data": {
      "text/html": [
       "<div>\n",
       "<style scoped>\n",
       "    .dataframe tbody tr th:only-of-type {\n",
       "        vertical-align: middle;\n",
       "    }\n",
       "\n",
       "    .dataframe tbody tr th {\n",
       "        vertical-align: top;\n",
       "    }\n",
       "\n",
       "    .dataframe thead th {\n",
       "        text-align: right;\n",
       "    }\n",
       "</style>\n",
       "<table border=\"1\" class=\"dataframe\">\n",
       "  <thead>\n",
       "    <tr style=\"text-align: right;\">\n",
       "      <th></th>\n",
       "      <th>CELL</th>\n",
       "      <th>SMEAR</th>\n",
       "      <th>INFIL</th>\n",
       "      <th>LI</th>\n",
       "      <th>BLAST</th>\n",
       "      <th>TEMP</th>\n",
       "    </tr>\n",
       "  </thead>\n",
       "  <tbody>\n",
       "    <tr>\n",
       "      <th>0</th>\n",
       "      <td>0.8</td>\n",
       "      <td>0.83</td>\n",
       "      <td>0.66</td>\n",
       "      <td>1.9</td>\n",
       "      <td>1.10</td>\n",
       "      <td>1.00</td>\n",
       "    </tr>\n",
       "    <tr>\n",
       "      <th>1</th>\n",
       "      <td>0.9</td>\n",
       "      <td>0.36</td>\n",
       "      <td>0.32</td>\n",
       "      <td>1.4</td>\n",
       "      <td>0.74</td>\n",
       "      <td>0.99</td>\n",
       "    </tr>\n",
       "    <tr>\n",
       "      <th>2</th>\n",
       "      <td>0.8</td>\n",
       "      <td>0.88</td>\n",
       "      <td>0.70</td>\n",
       "      <td>0.8</td>\n",
       "      <td>0.18</td>\n",
       "      <td>0.98</td>\n",
       "    </tr>\n",
       "    <tr>\n",
       "      <th>3</th>\n",
       "      <td>1.0</td>\n",
       "      <td>0.87</td>\n",
       "      <td>0.87</td>\n",
       "      <td>0.7</td>\n",
       "      <td>1.05</td>\n",
       "      <td>0.99</td>\n",
       "    </tr>\n",
       "    <tr>\n",
       "      <th>4</th>\n",
       "      <td>0.9</td>\n",
       "      <td>0.75</td>\n",
       "      <td>0.68</td>\n",
       "      <td>1.3</td>\n",
       "      <td>0.52</td>\n",
       "      <td>0.98</td>\n",
       "    </tr>\n",
       "  </tbody>\n",
       "</table>\n",
       "</div>"
      ],
      "text/plain": [
       "   CELL  SMEAR  INFIL   LI  BLAST  TEMP\n",
       "0   0.8   0.83   0.66  1.9   1.10  1.00\n",
       "1   0.9   0.36   0.32  1.4   0.74  0.99\n",
       "2   0.8   0.88   0.70  0.8   0.18  0.98\n",
       "3   1.0   0.87   0.87  0.7   1.05  0.99\n",
       "4   0.9   0.75   0.68  1.3   0.52  0.98"
      ]
     },
     "execution_count": 499,
     "metadata": {},
     "output_type": "execute_result"
    }
   ],
   "source": [
    "\n",
    "x.head()"
   ]
  },
  {
   "cell_type": "markdown",
   "metadata": {},
   "source": [
    "**Filter out records leukemia remission occured and remission not occured and plot**\n"
   ]
  },
  {
   "cell_type": "code",
   "execution_count": 500,
   "metadata": {},
   "outputs": [
    {
     "data": {
      "text/plain": [
       "<matplotlib.legend.Legend at 0x1a2bc0c0b8>"
      ]
     },
     "execution_count": 500,
     "metadata": {},
     "output_type": "execute_result"
    },
    {
     "data": {
      "image/png": "[encoded data removed]",
      "text/plain": [
       "<Figure size 432x288 with 1 Axes>"
      ]
     },
     "metadata": {},
     "output_type": "display_data"
    }
   ],
   "source": [
    "occ = df.loc[y == 1]\n",
    "noc = df.loc[y == 0]\n",
    "plt.scatter(occ.iloc[:, 0], occ.iloc[:, 1], label='Occurred')\n",
    "plt.scatter(noc.iloc[:, 0], noc.iloc[:, 1], label='Not Occurred')\n",
    "plt.legend()\n"
   ]
  },
  {
   "cell_type": "code",
   "execution_count": 501,
   "metadata": {},
   "outputs": [
    {
     "data": {
      "text/plain": [
       "Index(['REMISS', 'CELL', 'SMEAR', 'INFIL', 'LI', 'BLAST', 'TEMP'], dtype='object')"
      ]
     },
     "execution_count": 501,
     "metadata": {},
     "output_type": "execute_result"
    },
    {
     "data": {
      "image/png": "[encoded data removed]",
      "text/plain": [
       "<Figure size 432x288 with 1 Axes>"
      ]
     },
     "metadata": {
      "needs_background": "light"
     },
     "output_type": "display_data"
    },
    {
     "data": {
      "image/png": "[encoded data removed]",
      "text/plain": [
       "<Figure size 432x288 with 1 Axes>"
      ]
     },
     "metadata": {
      "needs_background": "light"
     },
     "output_type": "display_data"
    },
    {
     "data": {
      "image/png": "[encoded data removed]",
      "text/plain": [
       "<Figure size 432x288 with 1 Axes>"
      ]
     },
     "metadata": {
      "needs_background": "light"
     },
     "output_type": "display_data"
    },
    {
     "data": {
      "image/png": "[encoded data removed]",
      "text/plain": [
       "<Figure size 432x288 with 1 Axes>"
      ]
     },
     "metadata": {
      "needs_background": "light"
     },
     "output_type": "display_data"
    },
    {
     "data": {
      "image/png": "[encoded data removed]",
      "text/plain": [
       "<Figure size 432x288 with 1 Axes>"
      ]
     },
     "metadata": {
      "needs_background": "light"
     },
     "output_type": "display_data"
    },
    {
     "data": {
      "image/png": "[encoded data removed]",
      "text/plain": [
       "<Figure size 432x288 with 1 Axes>"
      ]
     },
     "metadata": {
      "needs_background": "light"
     },
     "output_type": "display_data"
    }
   ],
   "source": [
    "%matplotlib inline\n",
    "for i in df.columns:\n",
    "    if i=='REMISS':\n",
    "        continue;\n",
    "    pd.crosstab(df[i],data['REMISS']).plot(kind='bar')\n",
    "    plt.title('REMIS Occurred Frequency for %s' % i)\n",
    "    plt.xlabel(i)\n",
    "    plt.ylabel('Frequency of REMISS Occurred')\n",
    "    \n",
    "df.columns"
   ]
  },
  {
   "cell_type": "markdown",
   "metadata": {},
   "source": [
    "By observing the frequency, INFIL, LI, BLAST seems to have a more clear prediction"
   ]
  },
  {
   "cell_type": "markdown",
   "metadata": {},
   "source": [
    "<span id=\"4\"></span>\n",
    "## 4. Traning set and Test set \n",
    "[[top]](#0)\n"
   ]
  },
  {
   "cell_type": "code",
   "execution_count": 502,
   "metadata": {},
   "outputs": [
    {
     "name": "stdout",
     "output_type": "stream",
     "text": [
      "Features in Train  (18, 6) \n",
      "Response in  Train (18,)\n",
      "Features in Test  (9, 6) \n",
      "Response in  Test (9,)\n"
     ]
    }
   ],
   "source": [
    "from sklearn.model_selection import train_test_split\n",
    "xtrain, xtest, ytrain, ytest= train_test_split(x, y,  test_size=1/3)\n",
    "print( \"Features in Train \",xtrain.shape, \"\\nResponse in  Train\",ytrain.shape)\n",
    "print( \"Features in Test \",xtest.shape, \"\\nResponse in  Test\",ytest.shape)\n"
   ]
  },
  {
   "cell_type": "code",
   "execution_count": null,
   "metadata": {},
   "outputs": [],
   "source": []
  },
  {
   "cell_type": "markdown",
   "metadata": {},
   "source": [
    "\n",
    "<span id=\"5\"></span>\n",
    "## 5. Train a Logistic Regression Model\n",
    "\n",
    "[[top]](#0)\n"
   ]
  },
  {
   "cell_type": "code",
   "execution_count": 503,
   "metadata": {},
   "outputs": [
    {
     "data": {
      "text/plain": [
       "LogisticRegressionCV(Cs=10, class_weight=None, cv=5, dual=False,\n",
       "           fit_intercept=True, intercept_scaling=1.0, max_iter=100,\n",
       "           multi_class='warn', n_jobs=None, penalty='l2',\n",
       "           random_state=None, refit=True, scoring=None, solver='lbfgs',\n",
       "           tol=0.0001, verbose=0)"
      ]
     },
     "execution_count": 503,
     "metadata": {},
     "output_type": "execute_result"
    }
   ],
   "source": [
    "# build the model with 5 fold cross validation\n",
    "from sklearn.linear_model import LogisticRegressionCV\n",
    "log_reg = LogisticRegressionCV(cv=5)\n",
    "log_reg.fit(xtrain,ytrain) # train"
   ]
  },
  {
   "cell_type": "markdown",
   "metadata": {},
   "source": [
    "\n",
    "\n",
    "<span id=\"6\"></span>\n",
    "## 6. Coefficients\n",
    "\n",
    "[[top]](#0)\n",
    "\n"
   ]
  },
  {
   "cell_type": "code",
   "execution_count": 504,
   "metadata": {},
   "outputs": [
    {
     "name": "stdout",
     "output_type": "stream",
     "text": [
      "[[ 13.78163584   4.0796846   -5.82614194   3.58435062  -1.16053399\n",
      "  -34.64819692]]\n",
      "[19.31483532]\n",
      "[[[ 7 11  9  8  9 13 17 32 30 52]\n",
      "  [ 7 11  9  8  9 11 19 24 44 39]\n",
      "  [ 7 11  9  9  9 12 23 25 40 44]\n",
      "  [ 7 11 10  8  9 14 16 23 29 74]\n",
      "  [ 7 11  9  9 10 14 22 35 30 36]]]\n"
     ]
    }
   ],
   "source": [
    "print(log_reg.coef_)\n",
    "print(log_reg.intercept_)\n",
    "print(log_reg.n_iter_)\n"
   ]
  },
  {
   "cell_type": "code",
   "execution_count": null,
   "metadata": {},
   "outputs": [],
   "source": []
  },
  {
   "cell_type": "markdown",
   "metadata": {},
   "source": [
    "\n",
    "\n",
    "<span id=\"7\"></span>\n",
    "## 7. Accuracy and Confusion Matrix\n",
    "\n",
    "[[top]](#0)\n"
   ]
  },
  {
   "cell_type": "code",
   "execution_count": 505,
   "metadata": {},
   "outputs": [
    {
     "name": "stdout",
     "output_type": "stream",
     "text": [
      "[0 1 1 0 1 1 0 0 0]\n",
      "Accuracy of logistic regression classifier on test set: 0.78\n"
     ]
    }
   ],
   "source": [
    "ypred = log_reg.predict(xtest)\n",
    "print (ypred)\n",
    "print('Accuracy of logistic regression classifier on test set: {:.2f}'.format(log_reg.score(xtest, ytest)))\n",
    "\n",
    "from sklearn.metrics import confusion_matrix ,classification_report, accuracy_score\n",
    "confusion_matrix = confusion_matrix(ytest, ypred)\n"
   ]
  },
  {
   "cell_type": "markdown",
   "metadata": {},
   "source": [
    "### confusion matrix"
   ]
  },
  {
   "cell_type": "code",
   "execution_count": 506,
   "metadata": {},
   "outputs": [
    {
     "name": "stdout",
     "output_type": "stream",
     "text": [
      "[[5 2]\n",
      " [0 2]]\n"
     ]
    }
   ],
   "source": [
    "print(confusion_matrix)\n"
   ]
  },
  {
   "cell_type": "markdown",
   "metadata": {},
   "source": [
    "### Classification Report\n"
   ]
  },
  {
   "cell_type": "code",
   "execution_count": 507,
   "metadata": {},
   "outputs": [
    {
     "name": "stdout",
     "output_type": "stream",
     "text": [
      "              precision    recall  f1-score   support\n",
      "\n",
      "           0       1.00      0.71      0.83         7\n",
      "           1       0.50      1.00      0.67         2\n",
      "\n",
      "   micro avg       0.78      0.78      0.78         9\n",
      "   macro avg       0.75      0.86      0.75         9\n",
      "weighted avg       0.89      0.78      0.80         9\n",
      "\n"
     ]
    }
   ],
   "source": [
    "print(classification_report(ytest, ypred))\n",
    "acc = accuracy_score(ytest, ypred)\n"
   ]
  },
  {
   "cell_type": "markdown",
   "metadata": {},
   "source": [
    "### Accuracy"
   ]
  },
  {
   "cell_type": "code",
   "execution_count": 508,
   "metadata": {},
   "outputs": [
    {
     "name": "stdout",
     "output_type": "stream",
     "text": [
      "77.77777777777779\n"
     ]
    }
   ],
   "source": [
    "print(acc * 100)"
   ]
  },
  {
   "cell_type": "markdown",
   "metadata": {},
   "source": [
    "\n",
    "<span id=\"8\"></span>\n",
    "## 8. Decision Boundary\n",
    "\n",
    "[[top]](#0)\n",
    "\n"
   ]
  },
  {
   "cell_type": "code",
   "execution_count": 509,
   "metadata": {},
   "outputs": [
    {
     "data": {
      "text/plain": [
       "array([ 0.76651039,  1.18020937, -1.44468152, -1.43417694,  0.91723965,\n",
       "       -0.4468264 , -1.1401883 ,  1.02340159,  0.15847805, -2.34676192,\n",
       "       -1.4199431 , -0.85340686, -3.94081517, -8.36574507, -0.04122507,\n",
       "        0.70785228, -4.91685449, -0.80912302, -5.55980008,  0.39550239,\n",
       "       -1.24969452, -4.41734451,  0.40459659,  2.36541664,  2.72616522,\n",
       "        0.35140261, -0.43532581])"
      ]
     },
     "execution_count": 509,
     "metadata": {},
     "output_type": "execute_result"
    }
   ],
   "source": [
    "log_reg.decision_function(x)"
   ]
  },
  {
   "cell_type": "markdown",
   "metadata": {},
   "source": [
    "**Predicting probabilitis - Probability for REMISS occurred ( Class = 1 )**"
   ]
  },
  {
   "cell_type": "code",
   "execution_count": 510,
   "metadata": {},
   "outputs": [
    {
     "data": {
      "text/plain": [
       "array([6.82765539e-01, 7.64985447e-01, 1.90821435e-01, 1.92448704e-01,\n",
       "       7.14479332e-01, 3.90115583e-01, 2.42285791e-01, 7.35634657e-01,\n",
       "       5.39536800e-01, 8.73234964e-02, 1.94670504e-01, 2.98718679e-01,\n",
       "       1.90619488e-02, 2.32649450e-04, 4.89695192e-01, 6.69926420e-01,\n",
       "       7.26890262e-03, 3.08077407e-01, 3.83478374e-03, 5.97606584e-01,\n",
       "       2.22753023e-01, 1.19223734e-02, 5.99791536e-01, 9.14151849e-01,\n",
       "       9.38553052e-01, 5.86957666e-01, 3.92855297e-01])"
      ]
     },
     "execution_count": 510,
     "metadata": {},
     "output_type": "execute_result"
    }
   ],
   "source": [
    "log_reg.predict_proba(x)[:,1]\n",
    "\n"
   ]
  },
  {
   "cell_type": "code",
   "execution_count": 511,
   "metadata": {},
   "outputs": [
    {
     "name": "stderr",
     "output_type": "stream",
     "text": [
      "/anaconda3/anaconda3/lib/python3.7/site-packages/scipy/stats/stats.py:1713: FutureWarning: Using a non-tuple sequence for multidimensional indexing is deprecated; use `arr[tuple(seq)]` instead of `arr[seq]`. In the future this will be interpreted as an array index, `arr[np.array(seq)]`, which will result either in an error or a different result.\n",
      "  return np.add.reduce(sorted[indexer] * weights, axis=axis) / sumval\n",
      "/anaconda3/anaconda3/lib/python3.7/site-packages/statsmodels/genmod/families/family.py:880: RuntimeWarning: invalid value encountered in true_divide\n",
      "  n_endog_mu = self._clean((1. - endog) / (1. - mu))\n",
      "/anaconda3/anaconda3/lib/python3.7/site-packages/statsmodels/genmod/families/links.py:167: RuntimeWarning: overflow encountered in exp\n",
      "  t = np.exp(-z)\n"
     ]
    },
    {
     "data": {
      "image/png": "[encoded data removed]",
      "text/plain": [
       "<Figure size 432x288 with 1 Axes>"
      ]
     },
     "metadata": {
      "needs_background": "light"
     },
     "output_type": "display_data"
    }
   ],
   "source": [
    "import seaborn as sns\n",
    "\n",
    "\n",
    "for f in features:\n",
    "    sns.regplot(x=f, y='REMISS', data=df, logistic=True)"
   ]
  },
  {
   "cell_type": "markdown",
   "metadata": {},
   "source": [
    "\n",
    "\n",
    "<span id=\"9\"></span>\n",
    "## 9. Identify which of the following variables are positively associated with the target column. \n",
    "\n",
    "[[top]](#0)\n",
    "\n"
   ]
  },
  {
   "cell_type": "code",
   "execution_count": null,
   "metadata": {},
   "outputs": [],
   "source": []
  },
  {
   "cell_type": "code",
   "execution_count": null,
   "metadata": {},
   "outputs": [],
   "source": [
    "\n"
   ]
  },
  {
   "cell_type": "markdown",
   "metadata": {},
   "source": [
    "\n",
    "\n",
    "<span id=\"10\"></span>\n",
    "## 10. Predict for Given \n",
    "\n",
    "[[top]](#0)\n",
    "\n",
    "\n",
    "* CELL =  0.3\n",
    "* SMEAR = 0.28\n",
    "* INFIL = 0.09\n",
    "* LI = 0.9\n",
    "* BLAST = 0.21\n",
    "* TEMP = 1.01\n",
    "\n",
    "Predict REMIS\n",
    "\n",
    "1. What is the model's computed probability that leukemia remission has occurred?\n",
    "2. How confident are you in the model's accuracy of this probability calculation? (2 points)"
   ]
  },
  {
   "cell_type": "code",
   "execution_count": 512,
   "metadata": {},
   "outputs": [
    {
     "name": "stdout",
     "output_type": "stream",
     "text": [
      "[0.3, 0.28, 0.09, 0.9, 0.21, 1.01]  Predicted REMISS  Not Occurred\n",
      "[0.9, 0.75, 0.68, 1.3, 0.52, 0.98]  Predicted REMISS  Occurred\n",
      "[1.0, 0.58, 0.58, 1.0, 0.53, 1.0]  Predicted REMISS  Occurred\n"
     ]
    }
   ],
   "source": [
    "newdata   = [[0.3,0.28,0.09,0.9,0.21,1.01],[0.9,0.75,0.68,1.3,0.52,0.98],[1.00,0.58,0.58,1.0,0.53,1.00]]\n",
    "indata = pd.DataFrame(newdata,columns=['CELL','SMEAR','INFIL','LI','BLAST','TEMP'])\n",
    "indata[['SMEAR','INFIL','LI','BLAST']]\n",
    "#indata[['INFIL','BLAST']]\n",
    "\n",
    "yhat  = log_reg.predict(indata[['CELL','SMEAR','INFIL','LI','BLAST','TEMP']])\n",
    "#yhat  = log_reg.predict(indata[['SMEAR','INFIL','LI','BLAST']])\n",
    "#yhat  = log_reg.predict(indata[['INFIL','BLAST']])\n",
    "\n",
    "\n",
    "for i in range(0, len(newdata)):\n",
    "    print( newdata[i],\" Predicted REMISS \",\"Not Occurred\" if yhat[i]==0 else \"Occurred\")\n",
    "\n",
    "\n"
   ]
  },
  {
   "cell_type": "code",
   "execution_count": 513,
   "metadata": {},
   "outputs": [
    {
     "data": {
      "text/plain": [
       "Index(['CELL', 'SMEAR', 'INFIL', 'LI', 'BLAST', 'TEMP'], dtype='object')"
      ]
     },
     "execution_count": 513,
     "metadata": {},
     "output_type": "execute_result"
    }
   ],
   "source": [
    "indata.columns"
   ]
  },
  {
   "cell_type": "code",
   "execution_count": 514,
   "metadata": {},
   "outputs": [
    {
     "data": {
      "image/png": "[encoded data removed]",
      "text/plain": [
       "<Figure size 432x288 with 1 Axes>"
      ]
     },
     "metadata": {
      "needs_background": "light"
     },
     "output_type": "display_data"
    }
   ],
   "source": [
    "from sklearn.metrics import roc_auc_score\n",
    "from sklearn.metrics import roc_curve\n",
    "logit_roc_auc = roc_auc_score(ytest, log_reg.predict(xtest))\n",
    "fpr, tpr, thresholds = roc_curve(ytest, log_reg.predict_proba(xtest)[:,1])\n",
    "plt.figure()\n",
    "plt.plot(fpr, tpr, label='Logistic Regression (area = %0.2f)' % logit_roc_auc)\n",
    "plt.plot([0, 1], [0, 1],'r--')\n",
    "plt.xlim([0.0, 1.0])\n",
    "plt.ylim([0.0, 1.05])\n",
    "plt.xlabel('False Positive Rate')\n",
    "plt.ylabel('True Positive Rate')\n",
    "plt.title('Receiver operating characteristic')\n",
    "plt.legend(loc=\"lower right\")\n",
    "plt.savefig('Log_ROC')\n",
    "plt.show()"
   ]
  },
  {
   "cell_type": "markdown",
   "metadata": {},
   "source": [
    "A good classifier stays as far away from that line as possible (toward the top-left corner).\n"
   ]
  },
  {
   "cell_type": "code",
   "execution_count": null,
   "metadata": {},
   "outputs": [],
   "source": []
  },
  {
   "cell_type": "code",
   "execution_count": null,
   "metadata": {},
   "outputs": [],
   "source": []
  }
 ],
 "metadata": {
  "kernelspec": {
   "display_name": "Python 3",
   "language": "python",
   "name": "python3"
  },
  "language_info": {
   "codemirror_mode": {
    "name": "ipython",
    "version": 3
   },
   "file_extension": ".py",
   "mimetype": "text/x-python",
   "name": "python",
   "nbconvert_exporter": "python",
   "pygments_lexer": "ipython3",
   "version": "3.7.1"
  }
 },
 "nbformat": 4,
 "nbformat_minor": 2
}
