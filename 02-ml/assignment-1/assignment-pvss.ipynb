{
 "cells": [
  {
   "cell_type": "markdown",
   "metadata": {},
   "source": [
    "# Predicting Leukemia Remission Occurance Using Logistic Regression\n",
    "## Machine Learning, Assignment - 1 \n",
    "---\n",
    "Submitters \n",
    "<table style=\"float:left\">\n",
    "    <tbody>\n",
    "        <tr>\n",
    "            <td>1</td>\n",
    "            <td>Nageswar Rao</td>\n",
    "            <td> * </td>\n",
    "        </tr>\n",
    "         <tr>\n",
    "            <td>2</td>\n",
    "            <td>Saranya</td>\n",
    "            <td> * </td>\n",
    "        </tr>\n",
    "         <tr>\n",
    "            <td>3</td>\n",
    "            <td>Prabha Sasikanth</td>\n",
    "            <td>2018ABO4094</td>\n",
    "        </tr>\n",
    "    </tbody>\n",
    "</table>\n"
   ]
  },
  {
   "cell_type": "markdown",
   "metadata": {},
   "source": [
    "---"
   ]
  },
  {
   "cell_type": "markdown",
   "metadata": {},
   "source": [
    "# Problem "
   ]
  },
  {
   "cell_type": "markdown",
   "metadata": {},
   "source": [
    "\n",
    "Consider data published on n = 27 leukemia patients. The data (leukemia_remission.csv) has a response variable of whether leukemia remission occurred (REMISS), which is given by a 1.\n",
    "\n",
    "### Data Source \n",
    "\n",
    "[Leukemia Remission](\"https://newonlinecourses.science.psu.edu/stat501/sites/onlinecourses.science.psu.edu.stat501/files/data/leukemia_remission/index.txt\")\n",
    "\n",
    "\n",
    "The predictor variables are \n",
    "1. cellularity of the marrow clot section (CELL), \n",
    "2. smear differential percentage of blasts (SMEAR), \n",
    "3. percentage of absolute marrow leukemia cell infiltrate (INFIL), \n",
    "4. percentage labeling index of the bone marrow leukemia cells (LI), \n",
    "5. absolute number of blasts in the peripheral blood (BLAST), \n",
    "6. and the highest temperature prior to start of treatment (TEMP)."
   ]
  },
  {
   "cell_type": "markdown",
   "metadata": {},
   "source": [
    "## 1. Import Datasets\n",
    "\n"
   ]
  },
  {
   "cell_type": "code",
   "execution_count": 24,
   "metadata": {},
   "outputs": [
    {
     "data": {
      "text/plain": [
       "('./leukemia_remission.txt', <http.client.HTTPMessage at 0x1165cc208>)"
      ]
     },
     "execution_count": 24,
     "metadata": {},
     "output_type": "execute_result"
    }
   ],
   "source": [
    "import csv\n",
    "import sys\n",
    "import urllib.request as req\n",
    "import numpy as np\n",
    "import pandas as pd\n",
    "from matplotlib import pyplot as plt\n",
    "\n",
    "dataurl = 'https://newonlinecourses.science.psu.edu/stat501/sites/onlinecourses.science.psu.edu.stat501/files/data/leukemia_remission/index.txt'\n",
    "req.urlretrieve(dataurl, './leukemia_remission.txt')"
   ]
  },
  {
   "cell_type": "markdown",
   "metadata": {},
   "source": [
    "Convert to CSV and form a DataFrame."
   ]
  },
  {
   "cell_type": "code",
   "execution_count": 34,
   "metadata": {},
   "outputs": [
    {
     "data": {
      "text/html": [
       "<div>\n",
       "<style scoped>\n",
       "    .dataframe tbody tr th:only-of-type {\n",
       "        vertical-align: middle;\n",
       "    }\n",
       "\n",
       "    .dataframe tbody tr th {\n",
       "        vertical-align: top;\n",
       "    }\n",
       "\n",
       "    .dataframe thead th {\n",
       "        text-align: right;\n",
       "    }\n",
       "</style>\n",
       "<table border=\"1\" class=\"dataframe\">\n",
       "  <thead>\n",
       "    <tr style=\"text-align: right;\">\n",
       "      <th></th>\n",
       "      <th>REMISS</th>\n",
       "      <th>CELL</th>\n",
       "      <th>SMEAR</th>\n",
       "      <th>INFIL</th>\n",
       "      <th>LI</th>\n",
       "      <th>BLAST</th>\n",
       "      <th>TEMP</th>\n",
       "    </tr>\n",
       "  </thead>\n",
       "  <tbody>\n",
       "    <tr>\n",
       "      <th>count</th>\n",
       "      <td>27.000000</td>\n",
       "      <td>27.000000</td>\n",
       "      <td>27.000000</td>\n",
       "      <td>27.000000</td>\n",
       "      <td>27.000000</td>\n",
       "      <td>27.000000</td>\n",
       "      <td>27.000000</td>\n",
       "    </tr>\n",
       "    <tr>\n",
       "      <th>mean</th>\n",
       "      <td>0.333333</td>\n",
       "      <td>0.881481</td>\n",
       "      <td>0.635185</td>\n",
       "      <td>0.570741</td>\n",
       "      <td>1.003704</td>\n",
       "      <td>0.688519</td>\n",
       "      <td>0.997407</td>\n",
       "    </tr>\n",
       "    <tr>\n",
       "      <th>std</th>\n",
       "      <td>0.480384</td>\n",
       "      <td>0.186645</td>\n",
       "      <td>0.214052</td>\n",
       "      <td>0.237567</td>\n",
       "      <td>0.467795</td>\n",
       "      <td>0.534960</td>\n",
       "      <td>0.014830</td>\n",
       "    </tr>\n",
       "    <tr>\n",
       "      <th>min</th>\n",
       "      <td>0.000000</td>\n",
       "      <td>0.200000</td>\n",
       "      <td>0.320000</td>\n",
       "      <td>0.080000</td>\n",
       "      <td>0.400000</td>\n",
       "      <td>0.000000</td>\n",
       "      <td>0.980000</td>\n",
       "    </tr>\n",
       "    <tr>\n",
       "      <th>25%</th>\n",
       "      <td>0.000000</td>\n",
       "      <td>0.825000</td>\n",
       "      <td>0.430000</td>\n",
       "      <td>0.335000</td>\n",
       "      <td>0.650000</td>\n",
       "      <td>0.230000</td>\n",
       "      <td>0.990000</td>\n",
       "    </tr>\n",
       "    <tr>\n",
       "      <th>50%</th>\n",
       "      <td>0.000000</td>\n",
       "      <td>0.950000</td>\n",
       "      <td>0.650000</td>\n",
       "      <td>0.630000</td>\n",
       "      <td>0.900000</td>\n",
       "      <td>0.520000</td>\n",
       "      <td>0.990000</td>\n",
       "    </tr>\n",
       "    <tr>\n",
       "      <th>75%</th>\n",
       "      <td>1.000000</td>\n",
       "      <td>1.000000</td>\n",
       "      <td>0.835000</td>\n",
       "      <td>0.740000</td>\n",
       "      <td>1.250000</td>\n",
       "      <td>1.060000</td>\n",
       "      <td>1.005000</td>\n",
       "    </tr>\n",
       "    <tr>\n",
       "      <th>max</th>\n",
       "      <td>1.000000</td>\n",
       "      <td>1.000000</td>\n",
       "      <td>0.970000</td>\n",
       "      <td>0.920000</td>\n",
       "      <td>1.900000</td>\n",
       "      <td>2.060000</td>\n",
       "      <td>1.040000</td>\n",
       "    </tr>\n",
       "  </tbody>\n",
       "</table>\n",
       "</div>"
      ],
      "text/plain": [
       "          REMISS       CELL      SMEAR      INFIL         LI      BLAST  \\\n",
       "count  27.000000  27.000000  27.000000  27.000000  27.000000  27.000000   \n",
       "mean    0.333333   0.881481   0.635185   0.570741   1.003704   0.688519   \n",
       "std     0.480384   0.186645   0.214052   0.237567   0.467795   0.534960   \n",
       "min     0.000000   0.200000   0.320000   0.080000   0.400000   0.000000   \n",
       "25%     0.000000   0.825000   0.430000   0.335000   0.650000   0.230000   \n",
       "50%     0.000000   0.950000   0.650000   0.630000   0.900000   0.520000   \n",
       "75%     1.000000   1.000000   0.835000   0.740000   1.250000   1.060000   \n",
       "max     1.000000   1.000000   0.970000   0.920000   1.900000   2.060000   \n",
       "\n",
       "            TEMP  \n",
       "count  27.000000  \n",
       "mean    0.997407  \n",
       "std     0.014830  \n",
       "min     0.980000  \n",
       "25%     0.990000  \n",
       "50%     0.990000  \n",
       "75%     1.005000  \n",
       "max     1.040000  "
      ]
     },
     "execution_count": 34,
     "metadata": {},
     "output_type": "execute_result"
    }
   ],
   "source": [
    "data = pd.read_csv('leukemia_remission.txt', sep=\"\\t\", encoding='utf-16', header='infer')\n",
    "data.describe()\n"
   ]
  },
  {
   "cell_type": "markdown",
   "metadata": {},
   "source": [
    "## 2. Extracting input and target variables\n"
   ]
  },
  {
   "cell_type": "markdown",
   "metadata": {},
   "source": [
    "### 3. Visualizing and Exploring dataset\n",
    "\n"
   ]
  },
  {
   "cell_type": "markdown",
   "metadata": {},
   "source": [
    "## 4. Traning set and Test set \n"
   ]
  },
  {
   "cell_type": "markdown",
   "metadata": {},
   "source": [
    "## 5. Train a Logistic Regression Model\n"
   ]
  },
  {
   "cell_type": "markdown",
   "metadata": {},
   "source": [
    "## 6. Coefficients\n",
    "\n"
   ]
  },
  {
   "cell_type": "markdown",
   "metadata": {},
   "source": [
    "## 7. Accuracy and Confusion Matrix\n"
   ]
  },
  {
   "cell_type": "markdown",
   "metadata": {},
   "source": [
    "## 8. Decision Boundary\n"
   ]
  },
  {
   "cell_type": "markdown",
   "metadata": {},
   "source": [
    "## 9. Accuracy and Confusion Matrix\n",
    "\n"
   ]
  },
  {
   "cell_type": "markdown",
   "metadata": {},
   "source": [
    "## 10. Predict for Given \n",
    "\n",
    "* CELL =  0.3\n",
    "* SMEAR = 0.28\n",
    "* INFIL = 0.09\n",
    "* LI = 0.9\n",
    "* BLAST = 0.21\n",
    "* TEMP = 1.01\n",
    "\n",
    "Predict REMIS\n",
    "\n",
    "1. What is the model's computed probability that leukemia remission has occurred?\n",
    "2. How confident are you in the model's accuracy of this probability calculation? (2 points)"
   ]
  },
  {
   "cell_type": "code",
   "execution_count": null,
   "metadata": {},
   "outputs": [],
   "source": []
  },
  {
   "cell_type": "code",
   "execution_count": 17,
   "metadata": {},
   "outputs": [],
   "source": []
  },
  {
   "cell_type": "code",
   "execution_count": 18,
   "metadata": {},
   "outputs": [
    {
     "data": {
      "text/plain": [
       "('./leukemia_remission.txt', <http.client.HTTPMessage at 0x116525630>)"
      ]
     },
     "execution_count": 18,
     "metadata": {},
     "output_type": "execute_result"
    }
   ],
   "source": []
  },
  {
   "cell_type": "code",
   "execution_count": 19,
   "metadata": {},
   "outputs": [],
   "source": [
    "\n"
   ]
  },
  {
   "cell_type": "markdown",
   "metadata": {},
   "source": [
    "Pandas:\n",
    "Loading csv - https://machinelearningmastery.com/load-machine-learning-data-python/\n",
    "Data Frame - https://pandas.pydata.org/pandas-docs/stable/reference/frame.html"
   ]
  },
  {
   "cell_type": "code",
   "execution_count": 84,
   "metadata": {},
   "outputs": [
    {
     "name": "stdout",
     "output_type": "stream",
     "text": [
      "<class 'pandas.core.frame.DataFrame'>\n",
      "(27, 7)\n",
      "Index(['REMISS', 'CELL', 'SMEAR', 'INFIL', 'LI', 'BLAST', 'TEMP'], dtype='object')\n",
      "   REMISS  CELL  SMEAR  INFIL   LI  BLAST  TEMP\n",
      "0       1   0.8   0.83   0.66  1.9   1.10  1.00\n",
      "1       1   0.9   0.36   0.32  1.4   0.74  0.99\n",
      "2       0   0.8   0.88   0.70  0.8   0.18  0.98\n",
      "3       0   1.0   0.87   0.87  0.7   1.05  0.99\n",
      "4       1   0.9   0.75   0.68  1.3   0.52  0.98\n"
     ]
    }
   ],
   "source": [
    "print(type(data))\n",
    "print(data.shape)\n",
    "print(data.columns)\n",
    "print(data.head())"
   ]
  },
  {
   "cell_type": "markdown",
   "metadata": {},
   "source": [
    "Printing selected columns from the dataframe https://stackoverflow.com/questions/11285613/selecting-multiple-columns-in-a-pandas-dataframe"
   ]
  },
  {
   "cell_type": "code",
   "execution_count": 85,
   "metadata": {},
   "outputs": [
    {
     "name": "stdout",
     "output_type": "stream",
     "text": [
      "   CELL  SMEAR  INFIL   LI  BLAST  TEMP\n",
      "0   0.8   0.83   0.66  1.9   1.10  1.00\n",
      "1   0.9   0.36   0.32  1.4   0.74  0.99\n",
      "2   0.8   0.88   0.70  0.8   0.18  0.98\n",
      "3   1.0   0.87   0.87  0.7   1.05  0.99\n",
      "4   0.9   0.75   0.68  1.3   0.52  0.98\n",
      "            CELL      SMEAR      INFIL         LI      BLAST       TEMP\n",
      "count  27.000000  27.000000  27.000000  27.000000  27.000000  27.000000\n",
      "mean    0.881481   0.635185   0.570741   1.003704   0.688519   0.997407\n",
      "std     0.186645   0.214052   0.237567   0.467795   0.534960   0.014830\n",
      "min     0.200000   0.320000   0.080000   0.400000   0.000000   0.980000\n",
      "25%     0.825000   0.430000   0.335000   0.650000   0.230000   0.990000\n",
      "50%     0.950000   0.650000   0.630000   0.900000   0.520000   0.990000\n",
      "75%     1.000000   0.835000   0.740000   1.250000   1.060000   1.005000\n",
      "max     1.000000   0.970000   0.920000   1.900000   2.060000   1.040000\n",
      "0    1\n",
      "1    1\n",
      "2    0\n",
      "3    0\n",
      "4    1\n",
      "Name: REMISS, dtype: int64\n"
     ]
    }
   ],
   "source": [
    "\n",
    "# ys = target values, first column\n",
    "ys = data.iloc[:, 0]\n",
    "\n",
    "# All independent variables except the 'REMISS' column\n",
    "xs = data.iloc[:, 1:] \n",
    "\n",
    "print(xs.head())\n",
    "print(xs.describe())\n",
    "print(ys.head())\n",
    "\n",
    "# filter out records leukemia remission occured\n",
    "occ = data.loc[ys == 1]\n",
    "\n",
    "# filter out records leukemia remission not occured\n",
    "noc = data.loc[ys == 0]"
   ]
  },
  {
   "cell_type": "markdown",
   "metadata": {},
   "source": [
    "Ploting: https://machinelearningmastery.com/data-visualization-methods-in-python/"
   ]
  },
  {
   "cell_type": "code",
   "execution_count": 73,
   "metadata": {},
   "outputs": [
    {
     "data": {
      "image/png": "[encoded data removed]",
      "text/plain": [
       "<Figure size 432x288 with 1 Axes>"
      ]
     },
     "metadata": {
      "needs_background": "light"
     },
     "output_type": "display_data"
    }
   ],
   "source": [
    "# Visualize \n",
    "plt.scatter(occ.iloc[:, 0], occ.iloc[:, 1], label='Occurred', color='red')\n",
    "plt.scatter(noc.iloc[:, 0], noc.iloc[:, 1], label='Not Occurred', color='green')\n",
    "plt.legend()\n",
    "plt.title('Scatter plot')\n",
    "plt.show()"
   ]
  },
  {
   "cell_type": "markdown",
   "metadata": {},
   "source": [
    "Describing dataframe: https://stackoverflow.com/questions/50165953/python-dataframes-describing-a-single-column"
   ]
  },
  {
   "cell_type": "code",
   "execution_count": 65,
   "metadata": {},
   "outputs": [],
   "source": [
    "from sklearn.model_selection import train_test_split\n",
    "(x_tr, x_te, y_tr, y_te) = train_test_split(xs, ys, stratify=ys, test_size=0.3)"
   ]
  },
  {
   "cell_type": "code",
   "execution_count": 66,
   "metadata": {},
   "outputs": [
    {
     "name": "stdout",
     "output_type": "stream",
     "text": [
      "(18, 6)\n",
      "(9, 6)\n",
      "(18,)\n",
      "(9,)\n"
     ]
    }
   ],
   "source": [
    "print(x_tr.shape)\n",
    "print(x_te.shape)\n",
    "print(y_tr.shape)\n",
    "print(y_te.shape)"
   ]
  },
  {
   "cell_type": "code",
   "execution_count": 77,
   "metadata": {},
   "outputs": [
    {
     "data": {
      "text/plain": [
       "LogisticRegression(C=1.0, class_weight=None, dual=False, fit_intercept=True,\n",
       "          intercept_scaling=1, max_iter=100, multi_class='warn',\n",
       "          n_jobs=None, penalty='l2', random_state=None, solver='liblinear',\n",
       "          tol=0.0001, verbose=0, warm_start=False)"
      ]
     },
     "execution_count": 77,
     "metadata": {},
     "output_type": "execute_result"
    }
   ],
   "source": [
    "# build the model\n",
    "from sklearn.linear_model import LogisticRegression\n",
    "\n",
    "model_softmax = LogisticRegression(solver='liblinear')\n",
    "\n",
    "model_softmax.fit(x_tr,y_tr) # train"
   ]
  },
  {
   "cell_type": "code",
   "execution_count": 78,
   "metadata": {},
   "outputs": [],
   "source": [
    "# predict the values\n",
    "y_prob  = model_softmax.predict(x_te)"
   ]
  },
  {
   "cell_type": "code",
   "execution_count": 79,
   "metadata": {},
   "outputs": [
    {
     "name": "stdout",
     "output_type": "stream",
     "text": [
      "66.66666666666666\n"
     ]
    }
   ],
   "source": [
    "# Accuracy scores\n",
    "from sklearn.metrics import accuracy_score\n",
    "\n",
    "acc = accuracy_score(y_te, y_prob)\n",
    "print(acc * 100)"
   ]
  },
  {
   "cell_type": "code",
   "execution_count": 80,
   "metadata": {},
   "outputs": [
    {
     "name": "stdout",
     "output_type": "stream",
     "text": [
      "Confusion Matrix :\n",
      "[[5 1]\n",
      " [2 1]]\n"
     ]
    }
   ],
   "source": [
    "from sklearn.metrics import confusion_matrix \n",
    "\n",
    "conf_matrix = confusion_matrix(y_te, y_prob) \n",
    "print('Confusion Matrix :')\n",
    "print(conf_matrix)"
   ]
  },
  {
   "cell_type": "code",
   "execution_count": 52,
   "metadata": {},
   "outputs": [
    {
     "name": "stdout",
     "output_type": "stream",
     "text": [
      "Classification Report:\n",
      "              precision    recall  f1-score   support\n",
      "\n",
      "           0       0.71      0.83      0.77         6\n",
      "           1       0.50      0.33      0.40         3\n",
      "\n",
      "   micro avg       0.67      0.67      0.67         9\n",
      "   macro avg       0.61      0.58      0.58         9\n",
      "weighted avg       0.64      0.67      0.65         9\n",
      "\n"
     ]
    }
   ],
   "source": [
    "from sklearn.metrics import classification_report \n",
    "\n",
    "print('Classification Report:')\n",
    "print(classification_report(y_te, y_prob))"
   ]
  },
  {
   "cell_type": "code",
   "execution_count": null,
   "metadata": {},
   "outputs": [],
   "source": []
  }
 ],
 "metadata": {
  "kernelspec": {
   "display_name": "Python 3",
   "language": "python",
   "name": "python3"
  },
  "language_info": {
   "codemirror_mode": {
    "name": "ipython",
    "version": 3
   },
   "file_extension": ".py",
   "mimetype": "text/x-python",
   "name": "python",
   "nbconvert_exporter": "python",
   "pygments_lexer": "ipython3",
   "version": "3.7.1"
  }
 },
 "nbformat": 4,
 "nbformat_minor": 2
}
