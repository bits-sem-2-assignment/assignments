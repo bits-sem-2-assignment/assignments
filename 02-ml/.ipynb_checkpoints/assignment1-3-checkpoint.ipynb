{
 "cells": [
  {
   "cell_type": "code",
   "execution_count": 12,
   "metadata": {},
   "outputs": [],
   "source": [
    "import csv\n",
    "import sys\n",
    "import urllib.request\n",
    "import numpy as np\n",
    "import pandas as pd\n",
    "from matplotlib import pyplot as plt"
   ]
  },
  {
   "cell_type": "code",
   "execution_count": 13,
   "metadata": {},
   "outputs": [
    {
     "data": {
      "text/plain": [
       "('./leukemia_remission.txt', <http.client.HTTPMessage at 0x1d481b8ff28>)"
      ]
     },
     "execution_count": 13,
     "metadata": {},
     "output_type": "execute_result"
    }
   ],
   "source": [
    "dataurl = 'https://newonlinecourses.science.psu.edu/stat501/sites/onlinecourses.science.psu.edu.stat501/files/data/leukemia_remission/index.txt'\n",
    "urllib.request.urlretrieve(dataurl, './leukemia_remission.txt')"
   ]
  },
  {
   "cell_type": "code",
   "execution_count": 14,
   "metadata": {},
   "outputs": [],
   "source": [
    "datatxt = r'leukemia_remission.txt'\n",
    "datacsv = r'leukemia_remission.csv'"
   ]
  },
  {
   "cell_type": "markdown",
   "metadata": {},
   "source": [
    "Pandas:\n",
    "Loading csv - https://machinelearningmastery.com/load-machine-learning-data-python/\n",
    "Data Frame - https://pandas.pydata.org/pandas-docs/stable/reference/frame.html"
   ]
  },
  {
   "cell_type": "code",
   "execution_count": 15,
   "metadata": {},
   "outputs": [
    {
     "name": "stdout",
     "output_type": "stream",
     "text": [
      "<class 'pandas.core.frame.DataFrame'>\n",
      "(27, 7)\n",
      "Index(['REMISS', 'CELL', 'SMEAR', 'INFIL', 'LI', 'BLAST', 'TEMP'], dtype='object')\n",
      "   REMISS  CELL  SMEAR  INFIL   LI  BLAST  TEMP\n",
      "0       1   0.8   0.83   0.66  1.9   1.10  1.00\n",
      "1       1   0.9   0.36   0.32  1.4   0.74  0.99\n",
      "2       0   0.8   0.88   0.70  0.8   0.18  0.98\n",
      "3       0   1.0   0.87   0.87  0.7   1.05  0.99\n",
      "4       1   0.9   0.75   0.68  1.3   0.52  0.98\n"
     ]
    }
   ],
   "source": [
    "data = pd.read_csv(datacsv, header='infer')\n",
    "print(type(data))\n",
    "print(data.shape)\n",
    "print(data.columns)\n",
    "print(data.head())"
   ]
  },
  {
   "cell_type": "markdown",
   "metadata": {},
   "source": [
    "Printing selected columns from the dataframe https://stackoverflow.com/questions/11285613/selecting-multiple-columns-in-a-pandas-dataframe"
   ]
  },
  {
   "cell_type": "code",
   "execution_count": 34,
   "metadata": {},
   "outputs": [
    {
     "name": "stdout",
     "output_type": "stream",
     "text": [
      "   CELL  SMEAR  INFIL   LI  BLAST  TEMP\n",
      "0   0.8   0.83   0.66  1.9   1.10  1.00\n",
      "1   0.9   0.36   0.32  1.4   0.74  0.99\n",
      "2   0.8   0.88   0.70  0.8   0.18  0.98\n",
      "3   1.0   0.87   0.87  0.7   1.05  0.99\n",
      "4   0.9   0.75   0.68  1.3   0.52  0.98\n",
      "            CELL      SMEAR      INFIL         LI      BLAST       TEMP\n",
      "count  27.000000  27.000000  27.000000  27.000000  27.000000  27.000000\n",
      "mean    0.881481   0.635185   0.570741   1.003704   0.688519   0.997407\n",
      "std     0.186645   0.214052   0.237567   0.467795   0.534960   0.014830\n",
      "min     0.200000   0.320000   0.080000   0.400000   0.000000   0.980000\n",
      "25%     0.825000   0.430000   0.335000   0.650000   0.230000   0.990000\n",
      "50%     0.950000   0.650000   0.630000   0.900000   0.520000   0.990000\n",
      "75%     1.000000   0.835000   0.740000   1.250000   1.060000   1.005000\n",
      "max     1.000000   0.970000   0.920000   1.900000   2.060000   1.040000\n",
      "0    1\n",
      "1    1\n",
      "2    0\n",
      "3    0\n",
      "4    1\n",
      "Name: REMISS, dtype: int64\n"
     ]
    }
   ],
   "source": [
    "\n",
    "# ys = target values, first column\n",
    "ys = data.iloc[:, 0]\n",
    "\n",
    "# All independent variables except the 'REMISS' column\n",
    "xs = data.iloc[:, 1:] \n",
    "\n",
    "print(xs.head())\n",
    "print(xs.describe())\n",
    "print(ys.head())\n",
    "\n",
    "# filter out records leukemia remission occured\n",
    "occ = data.loc[ys == 1]\n",
    "\n",
    "# filter out records leukemia remission not occured\n",
    "noc = data.loc[ys == 0]"
   ]
  },
  {
   "cell_type": "markdown",
   "metadata": {},
   "source": [
    "Ploting: https://machinelearningmastery.com/data-visualization-methods-in-python/"
   ]
  },
  {
   "cell_type": "code",
   "execution_count": 33,
   "metadata": {},
   "outputs": [
    {
     "data": {
      "image/png": "[encoded data removed]",
      "text/plain": [
       "<Figure size 432x288 with 1 Axes>"
      ]
     },
     "metadata": {
      "needs_background": "light"
     },
     "output_type": "display_data"
    }
   ],
   "source": [
    "# Visualize \n",
    "plt.scatter(occ.iloc[:, 0], occ.iloc[:, 1], label='Occurred')\n",
    "plt.scatter(noc.iloc[:, 0], noc.iloc[:, 1], label='Not Occurred')\n",
    "plt.legend()\n",
    "plt.title('Scatter plot')\n",
    "plt.show()"
   ]
  },
  {
   "cell_type": "markdown",
   "metadata": {},
   "source": [
    "Describing dataframe: https://stackoverflow.com/questions/50165953/python-dataframes-describing-a-single-column"
   ]
  },
  {
   "cell_type": "code",
   "execution_count": 39,
   "metadata": {},
   "outputs": [],
   "source": [
    "from sklearn.model_selection import train_test_split\n",
    "(x_tr, x_te, y_tr, y_te) = train_test_split(xs, ys, stratify=ys, test_size=0.3)"
   ]
  },
  {
   "cell_type": "code",
   "execution_count": 44,
   "metadata": {},
   "outputs": [
    {
     "name": "stdout",
     "output_type": "stream",
     "text": [
      "(18, 6)\n",
      "(9, 6)\n",
      "(18,)\n",
      "(9,)\n"
     ]
    }
   ],
   "source": [
    "print(x_tr.shape)\n",
    "print(x_te.shape)\n",
    "print(y_tr.shape)\n",
    "print(y_te.shape)"
   ]
  },
  {
   "cell_type": "code",
   "execution_count": 46,
   "metadata": {},
   "outputs": [
    {
     "data": {
      "text/plain": [
       "LogisticRegression(C=5, class_weight=None, dual=False, fit_intercept=True,\n",
       "          intercept_scaling=1, max_iter=100, multi_class='multinomial',\n",
       "          n_jobs=None, penalty='l2', random_state=None, solver='lbfgs',\n",
       "          tol=0.0001, verbose=0, warm_start=False)"
      ]
     },
     "execution_count": 46,
     "metadata": {},
     "output_type": "execute_result"
    }
   ],
   "source": [
    "# build the model\n",
    "from sklearn.linear_model import LogisticRegression\n",
    "\n",
    "model_softmax = LogisticRegression(multi_class=\"multinomial\", solver=\"lbfgs\", C=5) \n",
    "# default values are used\n",
    "\n",
    "model_softmax.fit(x_tr,y_tr) # train"
   ]
  },
  {
   "cell_type": "code",
   "execution_count": 47,
   "metadata": {},
   "outputs": [],
   "source": [
    "# predict the values\n",
    "y_prob  = model_softmax.predict(x_te)"
   ]
  },
  {
   "cell_type": "code",
   "execution_count": 49,
   "metadata": {},
   "outputs": [
    {
     "name": "stdout",
     "output_type": "stream",
     "text": [
      "66.66666666666666\n"
     ]
    }
   ],
   "source": [
    "# Accuracy scores\n",
    "from sklearn.metrics import accuracy_score\n",
    "\n",
    "acc = accuracy_score(y_te, y_prob)\n",
    "print(acc * 100)"
   ]
  },
  {
   "cell_type": "code",
   "execution_count": 50,
   "metadata": {},
   "outputs": [
    {
     "name": "stdout",
     "output_type": "stream",
     "text": [
      "Confusion Matrix :\n",
      "[[5 1]\n",
      " [2 1]]\n"
     ]
    }
   ],
   "source": [
    "from sklearn.metrics import confusion_matrix \n",
    "\n",
    "conf_matrix = confusion_matrix(y_te, y_prob) \n",
    "print('Confusion Matrix :')\n",
    "print(conf_matrix)"
   ]
  },
  {
   "cell_type": "code",
   "execution_count": 52,
   "metadata": {},
   "outputs": [
    {
     "name": "stdout",
     "output_type": "stream",
     "text": [
      "Classification Report:\n",
      "              precision    recall  f1-score   support\n",
      "\n",
      "           0       0.71      0.83      0.77         6\n",
      "           1       0.50      0.33      0.40         3\n",
      "\n",
      "   micro avg       0.67      0.67      0.67         9\n",
      "   macro avg       0.61      0.58      0.58         9\n",
      "weighted avg       0.64      0.67      0.65         9\n",
      "\n"
     ]
    }
   ],
   "source": [
    "from sklearn.metrics import classification_report \n",
    "\n",
    "print('Classification Report:')\n",
    "print(classification_report(y_te, y_prob))"
   ]
  },
  {
   "cell_type": "code",
   "execution_count": null,
   "metadata": {},
   "outputs": [],
   "source": []
  }
 ],
 "metadata": {
  "kernelspec": {
   "display_name": "Python 3",
   "language": "python",
   "name": "python3"
  },
  "language_info": {
   "codemirror_mode": {
    "name": "ipython",
    "version": 3
   },
   "file_extension": ".py",
   "mimetype": "text/x-python",
   "name": "python",
   "nbconvert_exporter": "python",
   "pygments_lexer": "ipython3",
   "version": "3.7.3"
  }
 },
 "nbformat": 4,
 "nbformat_minor": 2
}
